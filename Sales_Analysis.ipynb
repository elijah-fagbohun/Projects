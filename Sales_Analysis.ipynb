{
 "cells": [
  {
   "cell_type": "markdown",
   "id": "1caa3de0",
   "metadata": {},
   "source": [
    "# DataCamp Data Analyst Professional Certification Exam"
   ]
  },
  {
   "cell_type": "markdown",
   "id": "d9fc0b02",
   "metadata": {},
   "source": [
    "### Company Background"
   ]
  },
  {
   "cell_type": "markdown",
   "id": "d7e987fc",
   "metadata": {},
   "source": [
    "Pens & Printers is a national office supplies chain. At the moment, they send office supplies out of warehouses in four regions: East, Wesst, South, and Central, and all four warehouses stock the same products. The Head of Sales thinks this leads to large amounts of unsold products in some locations."
   ]
  },
  {
   "cell_type": "markdown",
   "id": "8936949e",
   "metadata": {},
   "source": [
    "### Customer Question"
   ]
  },
  {
   "cell_type": "markdown",
   "id": "d27b5dc2",
   "metadata": {},
   "source": [
    "The management would like to answer the following:\n",
    "- Are there products that do not sell as well in some locations?\n",
    "- Are there any other patterns over time in each region that you can find in the data?"
   ]
  },
  {
   "cell_type": "markdown",
   "id": "4a65627b",
   "metadata": {},
   "source": [
    "### Dataset"
   ]
  },
  {
   "cell_type": "markdown",
   "id": "11cfd2d5",
   "metadata": {},
   "source": [
    "- Order ID: Unique identifier for the individual order\n",
    "- Order Date: Date of the order, in format YYYY-MM-DD\n",
    "- Ship Mode: The method used to send out the order\n",
    "- Region: The region the order was sent from\n",
    "- Product ID: Unique identifier of the product ordered\n",
    "- Category: Category of the product, one of 'Office supplies', 'Furniture', or 'Technology'\n",
    "- Sub-Category: Subcategory of the product (e.g Binders, Paper, etc.)\n",
    "- Product Name: The name of the product\n",
    "- Sales: Total value of the products sold in the order\n",
    "- Quantity: Quantity of the products in the order\n",
    "- Discount Discount of the order in decimal form (e.g 0.30 indicates the order has a 30% discount, etc.)"
   ]
  },
  {
   "cell_type": "markdown",
   "id": "9737b7a4",
   "metadata": {},
   "source": [
    "### Goal of Project"
   ]
  },
  {
   "cell_type": "markdown",
   "id": "05d0e167",
   "metadata": {},
   "source": [
    "- Perform exploratory analysis of the dataset to answer the customer question in order to identify products that do not sell as well in some locations.\n",
    "- Perform exploratory analysis of the dataset to find hidden patterns or insights that are of significant business value.\n",
    "- Communicate findings using explanatory visualizations to non-technical audience."
   ]
  },
  {
   "cell_type": "markdown",
   "id": "e3fdeebd",
   "metadata": {},
   "source": [
    "### Data Wrangling"
   ]
  },
  {
   "cell_type": "markdown",
   "id": "78587cc1",
   "metadata": {},
   "source": [
    "#### Gather Data"
   ]
  },
  {
   "cell_type": "code",
   "execution_count": 1,
   "id": "7fb5a9e7",
   "metadata": {},
   "outputs": [],
   "source": [
    "# import all libraries\n",
    "import pandas as pd\n",
    "import numpy as np\n",
    "import scipy.stats as stats\n",
    "import matplotlib.pyplot as plt\n",
    "import seaborn as sns\n",
    "%matplotlib inline"
   ]
  },
  {
   "cell_type": "code",
   "execution_count": 2,
   "id": "b75e9939",
   "metadata": {},
   "outputs": [],
   "source": [
    "# load dataset\n",
    "office_supplies = pd.read_csv(r'C:\\Users\\HP\\Downloads\\office_supplies.csv')"
   ]
  },
  {
   "cell_type": "markdown",
   "id": "ebc286e8",
   "metadata": {},
   "source": [
    "#### Assess Data"
   ]
  },
  {
   "cell_type": "code",
   "execution_count": 3,
   "id": "c6549db4",
   "metadata": {},
   "outputs": [
    {
     "name": "stdout",
     "output_type": "stream",
     "text": [
      "<class 'pandas.core.frame.DataFrame'>\n",
      "RangeIndex: 9993 entries, 0 to 9992\n",
      "Data columns (total 12 columns):\n",
      " #   Column        Non-Null Count  Dtype  \n",
      "---  ------        --------------  -----  \n",
      " 0   Order ID      9993 non-null   object \n",
      " 1   Order Date    9993 non-null   object \n",
      " 2   Ship Mode     9993 non-null   object \n",
      " 3   Region        9993 non-null   object \n",
      " 4   Product ID    9993 non-null   object \n",
      " 5   Category      9993 non-null   object \n",
      " 6   Sub-Category  9993 non-null   object \n",
      " 7   Product Name  9993 non-null   object \n",
      " 8   Sales         9993 non-null   float64\n",
      " 9   Quantity      9993 non-null   int64  \n",
      " 10  Discount      9993 non-null   float64\n",
      " 11  Profit        8000 non-null   float64\n",
      "dtypes: float64(3), int64(1), object(8)\n",
      "memory usage: 937.0+ KB\n"
     ]
    }
   ],
   "source": [
    "# general information of the dataset\n",
    "office_supplies.info()"
   ]
  },
  {
   "cell_type": "code",
   "execution_count": 4,
   "id": "2ecccae5",
   "metadata": {},
   "outputs": [
    {
     "data": {
      "text/html": [
       "<div>\n",
       "<style scoped>\n",
       "    .dataframe tbody tr th:only-of-type {\n",
       "        vertical-align: middle;\n",
       "    }\n",
       "\n",
       "    .dataframe tbody tr th {\n",
       "        vertical-align: top;\n",
       "    }\n",
       "\n",
       "    .dataframe thead th {\n",
       "        text-align: right;\n",
       "    }\n",
       "</style>\n",
       "<table border=\"1\" class=\"dataframe\">\n",
       "  <thead>\n",
       "    <tr style=\"text-align: right;\">\n",
       "      <th></th>\n",
       "      <th>Sales</th>\n",
       "      <th>Quantity</th>\n",
       "      <th>Discount</th>\n",
       "      <th>Profit</th>\n",
       "    </tr>\n",
       "  </thead>\n",
       "  <tbody>\n",
       "    <tr>\n",
       "      <th>count</th>\n",
       "      <td>9993.000000</td>\n",
       "      <td>9993.000000</td>\n",
       "      <td>9993.000000</td>\n",
       "      <td>8000.000000</td>\n",
       "    </tr>\n",
       "    <tr>\n",
       "      <th>mean</th>\n",
       "      <td>229.854588</td>\n",
       "      <td>3.789553</td>\n",
       "      <td>0.156218</td>\n",
       "      <td>28.134233</td>\n",
       "    </tr>\n",
       "    <tr>\n",
       "      <th>std</th>\n",
       "      <td>623.276194</td>\n",
       "      <td>2.225220</td>\n",
       "      <td>0.206456</td>\n",
       "      <td>227.328814</td>\n",
       "    </tr>\n",
       "    <tr>\n",
       "      <th>min</th>\n",
       "      <td>0.444000</td>\n",
       "      <td>1.000000</td>\n",
       "      <td>0.000000</td>\n",
       "      <td>-6599.978000</td>\n",
       "    </tr>\n",
       "    <tr>\n",
       "      <th>25%</th>\n",
       "      <td>17.280000</td>\n",
       "      <td>2.000000</td>\n",
       "      <td>0.000000</td>\n",
       "      <td>1.814700</td>\n",
       "    </tr>\n",
       "    <tr>\n",
       "      <th>50%</th>\n",
       "      <td>54.480000</td>\n",
       "      <td>3.000000</td>\n",
       "      <td>0.200000</td>\n",
       "      <td>8.765100</td>\n",
       "    </tr>\n",
       "    <tr>\n",
       "      <th>75%</th>\n",
       "      <td>209.940000</td>\n",
       "      <td>5.000000</td>\n",
       "      <td>0.200000</td>\n",
       "      <td>29.950500</td>\n",
       "    </tr>\n",
       "    <tr>\n",
       "      <th>max</th>\n",
       "      <td>22638.480000</td>\n",
       "      <td>14.000000</td>\n",
       "      <td>0.800000</td>\n",
       "      <td>8399.976000</td>\n",
       "    </tr>\n",
       "  </tbody>\n",
       "</table>\n",
       "</div>"
      ],
      "text/plain": [
       "              Sales     Quantity     Discount       Profit\n",
       "count   9993.000000  9993.000000  9993.000000  8000.000000\n",
       "mean     229.854588     3.789553     0.156218    28.134233\n",
       "std      623.276194     2.225220     0.206456   227.328814\n",
       "min        0.444000     1.000000     0.000000 -6599.978000\n",
       "25%       17.280000     2.000000     0.000000     1.814700\n",
       "50%       54.480000     3.000000     0.200000     8.765100\n",
       "75%      209.940000     5.000000     0.200000    29.950500\n",
       "max    22638.480000    14.000000     0.800000  8399.976000"
      ]
     },
     "execution_count": 4,
     "metadata": {},
     "output_type": "execute_result"
    }
   ],
   "source": [
    "# descriptive statistics of the dataset\n",
    "office_supplies.describe()"
   ]
  },
  {
   "cell_type": "code",
   "execution_count": 5,
   "id": "5ad598de",
   "metadata": {
    "scrolled": true
   },
   "outputs": [
    {
     "data": {
      "text/html": [
       "<div>\n",
       "<style scoped>\n",
       "    .dataframe tbody tr th:only-of-type {\n",
       "        vertical-align: middle;\n",
       "    }\n",
       "\n",
       "    .dataframe tbody tr th {\n",
       "        vertical-align: top;\n",
       "    }\n",
       "\n",
       "    .dataframe thead th {\n",
       "        text-align: right;\n",
       "    }\n",
       "</style>\n",
       "<table border=\"1\" class=\"dataframe\">\n",
       "  <thead>\n",
       "    <tr style=\"text-align: right;\">\n",
       "      <th></th>\n",
       "      <th>Order ID</th>\n",
       "      <th>Order Date</th>\n",
       "      <th>Ship Mode</th>\n",
       "      <th>Region</th>\n",
       "      <th>Product ID</th>\n",
       "      <th>Category</th>\n",
       "      <th>Sub-Category</th>\n",
       "      <th>Product Name</th>\n",
       "      <th>Sales</th>\n",
       "      <th>Quantity</th>\n",
       "      <th>Discount</th>\n",
       "      <th>Profit</th>\n",
       "    </tr>\n",
       "  </thead>\n",
       "  <tbody>\n",
       "    <tr>\n",
       "      <th>2109</th>\n",
       "      <td>CA-2014-115259</td>\n",
       "      <td>2014-08-25</td>\n",
       "      <td>Second Class</td>\n",
       "      <td>East</td>\n",
       "      <td>OFF-EN-10002504</td>\n",
       "      <td>Office Supplies</td>\n",
       "      <td>Envelopes</td>\n",
       "      <td>Tyvek  Top-Opening Peel &amp; Seel Envelopes, Plai...</td>\n",
       "      <td>130.464</td>\n",
       "      <td>6</td>\n",
       "      <td>0.2</td>\n",
       "      <td>44.0316</td>\n",
       "    </tr>\n",
       "    <tr>\n",
       "      <th>9278</th>\n",
       "      <td>CA-2017-151183</td>\n",
       "      <td>2017-10-14</td>\n",
       "      <td>Standard Class</td>\n",
       "      <td>West</td>\n",
       "      <td>TEC-AC-10003614</td>\n",
       "      <td>Technology</td>\n",
       "      <td>Accessories</td>\n",
       "      <td>Verbatim 25 GB 6x Blu-ray Single Layer Recorda...</td>\n",
       "      <td>46.360</td>\n",
       "      <td>4</td>\n",
       "      <td>0.0</td>\n",
       "      <td>15.2988</td>\n",
       "    </tr>\n",
       "    <tr>\n",
       "      <th>1576</th>\n",
       "      <td>CA-2015-143147</td>\n",
       "      <td>2015-05-26</td>\n",
       "      <td>Second Class</td>\n",
       "      <td>Central</td>\n",
       "      <td>FUR-CH-10004754</td>\n",
       "      <td>Furniture</td>\n",
       "      <td>Chairs</td>\n",
       "      <td>Global Stack Chair with Arms, Black</td>\n",
       "      <td>104.930</td>\n",
       "      <td>5</td>\n",
       "      <td>0.3</td>\n",
       "      <td>NaN</td>\n",
       "    </tr>\n",
       "    <tr>\n",
       "      <th>2018</th>\n",
       "      <td>CA-2016-121755</td>\n",
       "      <td>2016-01-16</td>\n",
       "      <td>Second Class</td>\n",
       "      <td>West</td>\n",
       "      <td>OFF-BI-10001634</td>\n",
       "      <td>Office Supplies</td>\n",
       "      <td>Binders</td>\n",
       "      <td>Wilson Jones Active Use Binders</td>\n",
       "      <td>11.648</td>\n",
       "      <td>2</td>\n",
       "      <td>0.2</td>\n",
       "      <td>4.2224</td>\n",
       "    </tr>\n",
       "    <tr>\n",
       "      <th>1976</th>\n",
       "      <td>US-2016-103674</td>\n",
       "      <td>2016-12-06</td>\n",
       "      <td>Standard Class</td>\n",
       "      <td>West</td>\n",
       "      <td>OFF-FA-10003467</td>\n",
       "      <td>Office Supplies</td>\n",
       "      <td>Fasteners</td>\n",
       "      <td>Alliance Big Bands Rubber Bands, 12/Pack</td>\n",
       "      <td>13.860</td>\n",
       "      <td>7</td>\n",
       "      <td>0.0</td>\n",
       "      <td>NaN</td>\n",
       "    </tr>\n",
       "    <tr>\n",
       "      <th>841</th>\n",
       "      <td>US-2016-112396</td>\n",
       "      <td>2016-02-09</td>\n",
       "      <td>Standard Class</td>\n",
       "      <td>West</td>\n",
       "      <td>TEC-AC-10004761</td>\n",
       "      <td>Technology</td>\n",
       "      <td>Accessories</td>\n",
       "      <td>Maxell 4.7GB DVD+RW 3/Pack</td>\n",
       "      <td>31.860</td>\n",
       "      <td>2</td>\n",
       "      <td>0.0</td>\n",
       "      <td>NaN</td>\n",
       "    </tr>\n",
       "    <tr>\n",
       "      <th>3626</th>\n",
       "      <td>CA-2016-106530</td>\n",
       "      <td>2016-05-08</td>\n",
       "      <td>Same Day</td>\n",
       "      <td>East</td>\n",
       "      <td>OFF-ST-10000649</td>\n",
       "      <td>Office Supplies</td>\n",
       "      <td>Storage</td>\n",
       "      <td>Hanging Personal Folder File</td>\n",
       "      <td>25.120</td>\n",
       "      <td>2</td>\n",
       "      <td>0.2</td>\n",
       "      <td>1.5700</td>\n",
       "    </tr>\n",
       "    <tr>\n",
       "      <th>1999</th>\n",
       "      <td>CA-2014-115812</td>\n",
       "      <td>2014-06-09</td>\n",
       "      <td>Standard Class</td>\n",
       "      <td>West</td>\n",
       "      <td>OFF-AR-10002833</td>\n",
       "      <td>Office Supplies</td>\n",
       "      <td>Art</td>\n",
       "      <td>Newell 322</td>\n",
       "      <td>7.280</td>\n",
       "      <td>4</td>\n",
       "      <td>0.0</td>\n",
       "      <td>1.9656</td>\n",
       "    </tr>\n",
       "    <tr>\n",
       "      <th>1293</th>\n",
       "      <td>CA-2017-161340</td>\n",
       "      <td>2017-05-28</td>\n",
       "      <td>Standard Class</td>\n",
       "      <td>East</td>\n",
       "      <td>OFF-PA-10002464</td>\n",
       "      <td>Office Supplies</td>\n",
       "      <td>Paper</td>\n",
       "      <td>HP Office Recycled Paper (20Lb. and 87 Bright)</td>\n",
       "      <td>13.872</td>\n",
       "      <td>3</td>\n",
       "      <td>0.2</td>\n",
       "      <td>NaN</td>\n",
       "    </tr>\n",
       "    <tr>\n",
       "      <th>97</th>\n",
       "      <td>CA-2017-122798</td>\n",
       "      <td>2017-12-28</td>\n",
       "      <td>Standard Class</td>\n",
       "      <td>West</td>\n",
       "      <td>OFF-PA-10004239</td>\n",
       "      <td>Office Supplies</td>\n",
       "      <td>Paper</td>\n",
       "      <td>Xerox 1953</td>\n",
       "      <td>4.280</td>\n",
       "      <td>1</td>\n",
       "      <td>0.0</td>\n",
       "      <td>NaN</td>\n",
       "    </tr>\n",
       "    <tr>\n",
       "      <th>9634</th>\n",
       "      <td>US-2016-157490</td>\n",
       "      <td>2016-10-06</td>\n",
       "      <td>First Class</td>\n",
       "      <td>West</td>\n",
       "      <td>TEC-MA-10001695</td>\n",
       "      <td>Technology</td>\n",
       "      <td>Machines</td>\n",
       "      <td>Zebra GK420t Direct Thermal/Thermal Transfer P...</td>\n",
       "      <td>703.710</td>\n",
       "      <td>6</td>\n",
       "      <td>0.7</td>\n",
       "      <td>-938.2800</td>\n",
       "    </tr>\n",
       "    <tr>\n",
       "      <th>2865</th>\n",
       "      <td>CA-2014-148488</td>\n",
       "      <td>2014-12-10</td>\n",
       "      <td>Standard Class</td>\n",
       "      <td>East</td>\n",
       "      <td>OFF-PA-10004470</td>\n",
       "      <td>Office Supplies</td>\n",
       "      <td>Paper</td>\n",
       "      <td>Adams Write n' Stick Phone Message Book, 11\" X...</td>\n",
       "      <td>11.360</td>\n",
       "      <td>2</td>\n",
       "      <td>0.0</td>\n",
       "      <td>5.2256</td>\n",
       "    </tr>\n",
       "    <tr>\n",
       "      <th>6496</th>\n",
       "      <td>US-2014-138247</td>\n",
       "      <td>2014-12-24</td>\n",
       "      <td>Standard Class</td>\n",
       "      <td>West</td>\n",
       "      <td>TEC-PH-10000213</td>\n",
       "      <td>Technology</td>\n",
       "      <td>Phones</td>\n",
       "      <td>Seidio BD2-HK3IPH5-BK DILEX Case and Holster C...</td>\n",
       "      <td>173.656</td>\n",
       "      <td>7</td>\n",
       "      <td>0.2</td>\n",
       "      <td>17.3656</td>\n",
       "    </tr>\n",
       "    <tr>\n",
       "      <th>4549</th>\n",
       "      <td>US-2016-126844</td>\n",
       "      <td>2016-10-08</td>\n",
       "      <td>Standard Class</td>\n",
       "      <td>Central</td>\n",
       "      <td>FUR-FU-10004909</td>\n",
       "      <td>Furniture</td>\n",
       "      <td>Furnishings</td>\n",
       "      <td>Contemporary Wood/Metal Frame</td>\n",
       "      <td>51.712</td>\n",
       "      <td>8</td>\n",
       "      <td>0.6</td>\n",
       "      <td>-32.3200</td>\n",
       "    </tr>\n",
       "    <tr>\n",
       "      <th>4629</th>\n",
       "      <td>CA-2015-162369</td>\n",
       "      <td>2015-08-15</td>\n",
       "      <td>Standard Class</td>\n",
       "      <td>West</td>\n",
       "      <td>OFF-ST-10000046</td>\n",
       "      <td>Office Supplies</td>\n",
       "      <td>Storage</td>\n",
       "      <td>Fellowes Super Stor/Drawer Files</td>\n",
       "      <td>323.100</td>\n",
       "      <td>2</td>\n",
       "      <td>0.0</td>\n",
       "      <td>61.3890</td>\n",
       "    </tr>\n",
       "    <tr>\n",
       "      <th>4349</th>\n",
       "      <td>CA-2015-111514</td>\n",
       "      <td>2015-08-31</td>\n",
       "      <td>First Class</td>\n",
       "      <td>West</td>\n",
       "      <td>TEC-MA-10000597</td>\n",
       "      <td>Technology</td>\n",
       "      <td>Machines</td>\n",
       "      <td>Lexmark S315 Color Inkjet Printer</td>\n",
       "      <td>239.976</td>\n",
       "      <td>3</td>\n",
       "      <td>0.2</td>\n",
       "      <td>80.9919</td>\n",
       "    </tr>\n",
       "    <tr>\n",
       "      <th>7703</th>\n",
       "      <td>US-2015-160857</td>\n",
       "      <td>2015-05-08</td>\n",
       "      <td>Standard Class</td>\n",
       "      <td>East</td>\n",
       "      <td>TEC-CO-10004115</td>\n",
       "      <td>Technology</td>\n",
       "      <td>Copiers</td>\n",
       "      <td>Sharp AL-1530CS Digital Copier</td>\n",
       "      <td>2799.944</td>\n",
       "      <td>7</td>\n",
       "      <td>0.2</td>\n",
       "      <td>1014.9797</td>\n",
       "    </tr>\n",
       "    <tr>\n",
       "      <th>5653</th>\n",
       "      <td>CA-2016-161676</td>\n",
       "      <td>2016-07-18</td>\n",
       "      <td>Standard Class</td>\n",
       "      <td>West</td>\n",
       "      <td>OFF-SU-10004782</td>\n",
       "      <td>Office Supplies</td>\n",
       "      <td>Supplies</td>\n",
       "      <td>Elite 5\" Scissors</td>\n",
       "      <td>33.800</td>\n",
       "      <td>5</td>\n",
       "      <td>0.2</td>\n",
       "      <td>4.2250</td>\n",
       "    </tr>\n",
       "    <tr>\n",
       "      <th>3618</th>\n",
       "      <td>CA-2015-157084</td>\n",
       "      <td>2015-12-19</td>\n",
       "      <td>Standard Class</td>\n",
       "      <td>West</td>\n",
       "      <td>TEC-AC-10002049</td>\n",
       "      <td>Technology</td>\n",
       "      <td>Accessories</td>\n",
       "      <td>Plantronics Savi W720 Multi-Device Wireless He...</td>\n",
       "      <td>1265.850</td>\n",
       "      <td>3</td>\n",
       "      <td>0.0</td>\n",
       "      <td>556.9740</td>\n",
       "    </tr>\n",
       "    <tr>\n",
       "      <th>7928</th>\n",
       "      <td>CA-2016-103107</td>\n",
       "      <td>2016-07-04</td>\n",
       "      <td>Same Day</td>\n",
       "      <td>West</td>\n",
       "      <td>FUR-FU-10000221</td>\n",
       "      <td>Furniture</td>\n",
       "      <td>Furnishings</td>\n",
       "      <td>Master Caster Door Stop, Brown</td>\n",
       "      <td>25.400</td>\n",
       "      <td>5</td>\n",
       "      <td>0.0</td>\n",
       "      <td>8.6360</td>\n",
       "    </tr>\n",
       "  </tbody>\n",
       "</table>\n",
       "</div>"
      ],
      "text/plain": [
       "            Order ID  Order Date       Ship Mode   Region       Product ID  \\\n",
       "2109  CA-2014-115259  2014-08-25    Second Class     East  OFF-EN-10002504   \n",
       "9278  CA-2017-151183  2017-10-14  Standard Class     West  TEC-AC-10003614   \n",
       "1576  CA-2015-143147  2015-05-26    Second Class  Central  FUR-CH-10004754   \n",
       "2018  CA-2016-121755  2016-01-16    Second Class     West  OFF-BI-10001634   \n",
       "1976  US-2016-103674  2016-12-06  Standard Class     West  OFF-FA-10003467   \n",
       "841   US-2016-112396  2016-02-09  Standard Class     West  TEC-AC-10004761   \n",
       "3626  CA-2016-106530  2016-05-08        Same Day     East  OFF-ST-10000649   \n",
       "1999  CA-2014-115812  2014-06-09  Standard Class     West  OFF-AR-10002833   \n",
       "1293  CA-2017-161340  2017-05-28  Standard Class     East  OFF-PA-10002464   \n",
       "97    CA-2017-122798  2017-12-28  Standard Class     West  OFF-PA-10004239   \n",
       "9634  US-2016-157490  2016-10-06     First Class     West  TEC-MA-10001695   \n",
       "2865  CA-2014-148488  2014-12-10  Standard Class     East  OFF-PA-10004470   \n",
       "6496  US-2014-138247  2014-12-24  Standard Class     West  TEC-PH-10000213   \n",
       "4549  US-2016-126844  2016-10-08  Standard Class  Central  FUR-FU-10004909   \n",
       "4629  CA-2015-162369  2015-08-15  Standard Class     West  OFF-ST-10000046   \n",
       "4349  CA-2015-111514  2015-08-31     First Class     West  TEC-MA-10000597   \n",
       "7703  US-2015-160857  2015-05-08  Standard Class     East  TEC-CO-10004115   \n",
       "5653  CA-2016-161676  2016-07-18  Standard Class     West  OFF-SU-10004782   \n",
       "3618  CA-2015-157084  2015-12-19  Standard Class     West  TEC-AC-10002049   \n",
       "7928  CA-2016-103107  2016-07-04        Same Day     West  FUR-FU-10000221   \n",
       "\n",
       "             Category Sub-Category  \\\n",
       "2109  Office Supplies    Envelopes   \n",
       "9278       Technology  Accessories   \n",
       "1576        Furniture       Chairs   \n",
       "2018  Office Supplies      Binders   \n",
       "1976  Office Supplies    Fasteners   \n",
       "841        Technology  Accessories   \n",
       "3626  Office Supplies      Storage   \n",
       "1999  Office Supplies          Art   \n",
       "1293  Office Supplies        Paper   \n",
       "97    Office Supplies        Paper   \n",
       "9634       Technology     Machines   \n",
       "2865  Office Supplies        Paper   \n",
       "6496       Technology       Phones   \n",
       "4549        Furniture  Furnishings   \n",
       "4629  Office Supplies      Storage   \n",
       "4349       Technology     Machines   \n",
       "7703       Technology      Copiers   \n",
       "5653  Office Supplies     Supplies   \n",
       "3618       Technology  Accessories   \n",
       "7928        Furniture  Furnishings   \n",
       "\n",
       "                                           Product Name     Sales  Quantity  \\\n",
       "2109  Tyvek  Top-Opening Peel & Seel Envelopes, Plai...   130.464         6   \n",
       "9278  Verbatim 25 GB 6x Blu-ray Single Layer Recorda...    46.360         4   \n",
       "1576                Global Stack Chair with Arms, Black   104.930         5   \n",
       "2018                    Wilson Jones Active Use Binders    11.648         2   \n",
       "1976           Alliance Big Bands Rubber Bands, 12/Pack    13.860         7   \n",
       "841                          Maxell 4.7GB DVD+RW 3/Pack    31.860         2   \n",
       "3626                       Hanging Personal Folder File    25.120         2   \n",
       "1999                                         Newell 322     7.280         4   \n",
       "1293     HP Office Recycled Paper (20Lb. and 87 Bright)    13.872         3   \n",
       "97                                           Xerox 1953     4.280         1   \n",
       "9634  Zebra GK420t Direct Thermal/Thermal Transfer P...   703.710         6   \n",
       "2865  Adams Write n' Stick Phone Message Book, 11\" X...    11.360         2   \n",
       "6496  Seidio BD2-HK3IPH5-BK DILEX Case and Holster C...   173.656         7   \n",
       "4549                      Contemporary Wood/Metal Frame    51.712         8   \n",
       "4629                   Fellowes Super Stor/Drawer Files   323.100         2   \n",
       "4349                  Lexmark S315 Color Inkjet Printer   239.976         3   \n",
       "7703                     Sharp AL-1530CS Digital Copier  2799.944         7   \n",
       "5653                                  Elite 5\" Scissors    33.800         5   \n",
       "3618  Plantronics Savi W720 Multi-Device Wireless He...  1265.850         3   \n",
       "7928                     Master Caster Door Stop, Brown    25.400         5   \n",
       "\n",
       "      Discount     Profit  \n",
       "2109       0.2    44.0316  \n",
       "9278       0.0    15.2988  \n",
       "1576       0.3        NaN  \n",
       "2018       0.2     4.2224  \n",
       "1976       0.0        NaN  \n",
       "841        0.0        NaN  \n",
       "3626       0.2     1.5700  \n",
       "1999       0.0     1.9656  \n",
       "1293       0.2        NaN  \n",
       "97         0.0        NaN  \n",
       "9634       0.7  -938.2800  \n",
       "2865       0.0     5.2256  \n",
       "6496       0.2    17.3656  \n",
       "4549       0.6   -32.3200  \n",
       "4629       0.0    61.3890  \n",
       "4349       0.2    80.9919  \n",
       "7703       0.2  1014.9797  \n",
       "5653       0.2     4.2250  \n",
       "3618       0.0   556.9740  \n",
       "7928       0.0     8.6360  "
      ]
     },
     "execution_count": 5,
     "metadata": {},
     "output_type": "execute_result"
    }
   ],
   "source": [
    "# random sample of the dataset\n",
    "office_supplies.sample(20)"
   ]
  },
  {
   "cell_type": "code",
   "execution_count": 6,
   "id": "8e6189cf",
   "metadata": {},
   "outputs": [
    {
     "data": {
      "text/plain": [
       "1"
      ]
     },
     "execution_count": 6,
     "metadata": {},
     "output_type": "execute_result"
    }
   ],
   "source": [
    "# check for duplicates\n",
    "office_supplies.duplicated().sum()"
   ]
  },
  {
   "cell_type": "code",
   "execution_count": 7,
   "id": "5214a251",
   "metadata": {},
   "outputs": [
    {
     "data": {
      "text/html": [
       "<div>\n",
       "<style scoped>\n",
       "    .dataframe tbody tr th:only-of-type {\n",
       "        vertical-align: middle;\n",
       "    }\n",
       "\n",
       "    .dataframe tbody tr th {\n",
       "        vertical-align: top;\n",
       "    }\n",
       "\n",
       "    .dataframe thead th {\n",
       "        text-align: right;\n",
       "    }\n",
       "</style>\n",
       "<table border=\"1\" class=\"dataframe\">\n",
       "  <thead>\n",
       "    <tr style=\"text-align: right;\">\n",
       "      <th></th>\n",
       "      <th>Order ID</th>\n",
       "      <th>Order Date</th>\n",
       "      <th>Ship Mode</th>\n",
       "      <th>Region</th>\n",
       "      <th>Product ID</th>\n",
       "      <th>Category</th>\n",
       "      <th>Sub-Category</th>\n",
       "      <th>Product Name</th>\n",
       "      <th>Sales</th>\n",
       "      <th>Quantity</th>\n",
       "      <th>Discount</th>\n",
       "      <th>Profit</th>\n",
       "    </tr>\n",
       "  </thead>\n",
       "  <tbody>\n",
       "    <tr>\n",
       "      <th>5399</th>\n",
       "      <td>US-2014-150119</td>\n",
       "      <td>2014-04-23</td>\n",
       "      <td>Standard Class</td>\n",
       "      <td>East</td>\n",
       "      <td>FUR-CH-10002965</td>\n",
       "      <td>Furniture</td>\n",
       "      <td>Chairs</td>\n",
       "      <td>Global Leather Highback Executive Chair with P...</td>\n",
       "      <td>281.372</td>\n",
       "      <td>2</td>\n",
       "      <td>0.3</td>\n",
       "      <td>-12.0588</td>\n",
       "    </tr>\n",
       "  </tbody>\n",
       "</table>\n",
       "</div>"
      ],
      "text/plain": [
       "            Order ID  Order Date       Ship Mode Region       Product ID  \\\n",
       "5399  US-2014-150119  2014-04-23  Standard Class   East  FUR-CH-10002965   \n",
       "\n",
       "       Category Sub-Category  \\\n",
       "5399  Furniture       Chairs   \n",
       "\n",
       "                                           Product Name    Sales  Quantity  \\\n",
       "5399  Global Leather Highback Executive Chair with P...  281.372         2   \n",
       "\n",
       "      Discount   Profit  \n",
       "5399       0.3 -12.0588  "
      ]
     },
     "execution_count": 7,
     "metadata": {},
     "output_type": "execute_result"
    }
   ],
   "source": [
    "# view the duplicated row\n",
    "office_supplies[office_supplies.duplicated()]"
   ]
  },
  {
   "cell_type": "code",
   "execution_count": 8,
   "id": "2d45d87a",
   "metadata": {
    "scrolled": true
   },
   "outputs": [
    {
     "data": {
      "text/plain": [
       "<AxesSubplot:>"
      ]
     },
     "execution_count": 8,
     "metadata": {},
     "output_type": "execute_result"
    },
    {
     "data": {
      "image/png": "[encoded data removed]",
      "text/plain": [
       "<Figure size 432x288 with 1 Axes>"
      ]
     },
     "metadata": {
      "needs_background": "light"
     },
     "output_type": "display_data"
    }
   ],
   "source": [
    "# plot a heatmap of null values\n",
    "df_null = office_supplies.isnull()\n",
    "sns.heatmap(df_null, cbar = False)"
   ]
  },
  {
   "cell_type": "code",
   "execution_count": 9,
   "id": "4d49eeac",
   "metadata": {},
   "outputs": [
    {
     "data": {
      "text/plain": [
       "1993"
      ]
     },
     "execution_count": 9,
     "metadata": {},
     "output_type": "execute_result"
    }
   ],
   "source": [
    "# number of rows with null values in the profit column\n",
    "office_supplies.Profit.isnull().sum()"
   ]
  },
  {
   "cell_type": "markdown",
   "id": "a967a790",
   "metadata": {},
   "source": [
    "Null values are only present in the profit column and it seems the null values are only present in the first 1,993 rows of the dataset. It would be interesting to investigate further why this is so."
   ]
  },
  {
   "cell_type": "code",
   "execution_count": 10,
   "id": "8495d28c",
   "metadata": {},
   "outputs": [],
   "source": [
    "# extract the first 1,993 rows of the dataset for investigation\n",
    "null_investigation = office_supplies.iloc[:1994,:]"
   ]
  },
  {
   "cell_type": "code",
   "execution_count": 11,
   "id": "0d40e2fe",
   "metadata": {},
   "outputs": [
    {
     "data": {
      "text/html": [
       "<div>\n",
       "<style scoped>\n",
       "    .dataframe tbody tr th:only-of-type {\n",
       "        vertical-align: middle;\n",
       "    }\n",
       "\n",
       "    .dataframe tbody tr th {\n",
       "        vertical-align: top;\n",
       "    }\n",
       "\n",
       "    .dataframe thead th {\n",
       "        text-align: right;\n",
       "    }\n",
       "</style>\n",
       "<table border=\"1\" class=\"dataframe\">\n",
       "  <thead>\n",
       "    <tr style=\"text-align: right;\">\n",
       "      <th></th>\n",
       "      <th>Order ID</th>\n",
       "      <th>Order Date</th>\n",
       "      <th>Ship Mode</th>\n",
       "      <th>Region</th>\n",
       "      <th>Product ID</th>\n",
       "      <th>Category</th>\n",
       "      <th>Sub-Category</th>\n",
       "      <th>Product Name</th>\n",
       "      <th>Sales</th>\n",
       "      <th>Quantity</th>\n",
       "      <th>Discount</th>\n",
       "      <th>Profit</th>\n",
       "    </tr>\n",
       "  </thead>\n",
       "  <tbody>\n",
       "    <tr>\n",
       "      <th>0</th>\n",
       "      <td>CA-2015-110870</td>\n",
       "      <td>2015-12-12</td>\n",
       "      <td>First Class</td>\n",
       "      <td>West</td>\n",
       "      <td>TEC-AC-10002926</td>\n",
       "      <td>Technology</td>\n",
       "      <td>Accessories</td>\n",
       "      <td>Logitech Wireless Marathon Mouse M705</td>\n",
       "      <td>299.940</td>\n",
       "      <td>6</td>\n",
       "      <td>0.0</td>\n",
       "      <td>NaN</td>\n",
       "    </tr>\n",
       "    <tr>\n",
       "      <th>1</th>\n",
       "      <td>CA-2015-110870</td>\n",
       "      <td>2015-12-12</td>\n",
       "      <td>First Class</td>\n",
       "      <td>West</td>\n",
       "      <td>OFF-SU-10001225</td>\n",
       "      <td>Office Supplies</td>\n",
       "      <td>Supplies</td>\n",
       "      <td>Staple remover</td>\n",
       "      <td>25.760</td>\n",
       "      <td>7</td>\n",
       "      <td>0.0</td>\n",
       "      <td>NaN</td>\n",
       "    </tr>\n",
       "    <tr>\n",
       "      <th>2</th>\n",
       "      <td>CA-2014-143210</td>\n",
       "      <td>2014-12-01</td>\n",
       "      <td>First Class</td>\n",
       "      <td>East</td>\n",
       "      <td>TEC-PH-10004434</td>\n",
       "      <td>Technology</td>\n",
       "      <td>Phones</td>\n",
       "      <td>Cisco IP Phone 7961G VoIP phone - Dark gray</td>\n",
       "      <td>271.900</td>\n",
       "      <td>2</td>\n",
       "      <td>0.0</td>\n",
       "      <td>NaN</td>\n",
       "    </tr>\n",
       "    <tr>\n",
       "      <th>3</th>\n",
       "      <td>CA-2014-143210</td>\n",
       "      <td>2014-12-01</td>\n",
       "      <td>First Class</td>\n",
       "      <td>East</td>\n",
       "      <td>FUR-FU-10003878</td>\n",
       "      <td>Furniture</td>\n",
       "      <td>Furnishings</td>\n",
       "      <td>Linden 10\" Round Wall Clock, Black</td>\n",
       "      <td>45.840</td>\n",
       "      <td>3</td>\n",
       "      <td>0.0</td>\n",
       "      <td>NaN</td>\n",
       "    </tr>\n",
       "    <tr>\n",
       "      <th>4</th>\n",
       "      <td>CA-2014-143210</td>\n",
       "      <td>2014-12-01</td>\n",
       "      <td>First Class</td>\n",
       "      <td>East</td>\n",
       "      <td>FUR-FU-10002268</td>\n",
       "      <td>Furniture</td>\n",
       "      <td>Furnishings</td>\n",
       "      <td>Ultra Door Push Plate</td>\n",
       "      <td>9.820</td>\n",
       "      <td>2</td>\n",
       "      <td>0.0</td>\n",
       "      <td>NaN</td>\n",
       "    </tr>\n",
       "    <tr>\n",
       "      <th>5</th>\n",
       "      <td>CA-2016-139808</td>\n",
       "      <td>2016-10-07</td>\n",
       "      <td>Standard Class</td>\n",
       "      <td>West</td>\n",
       "      <td>OFF-FA-10001883</td>\n",
       "      <td>Office Supplies</td>\n",
       "      <td>Fasteners</td>\n",
       "      <td>Alliance Super-Size Bands, Assorted Sizes</td>\n",
       "      <td>93.360</td>\n",
       "      <td>12</td>\n",
       "      <td>0.0</td>\n",
       "      <td>NaN</td>\n",
       "    </tr>\n",
       "    <tr>\n",
       "      <th>6</th>\n",
       "      <td>CA-2015-110863</td>\n",
       "      <td>2015-11-17</td>\n",
       "      <td>Standard Class</td>\n",
       "      <td>Central</td>\n",
       "      <td>OFF-ST-10002756</td>\n",
       "      <td>Office Supplies</td>\n",
       "      <td>Storage</td>\n",
       "      <td>Tennsco Stur-D-Stor Boltless Shelving, 5 Shelv...</td>\n",
       "      <td>541.240</td>\n",
       "      <td>4</td>\n",
       "      <td>0.0</td>\n",
       "      <td>NaN</td>\n",
       "    </tr>\n",
       "    <tr>\n",
       "      <th>7</th>\n",
       "      <td>CA-2015-110863</td>\n",
       "      <td>2015-11-17</td>\n",
       "      <td>Standard Class</td>\n",
       "      <td>Central</td>\n",
       "      <td>OFF-PA-10000474</td>\n",
       "      <td>Office Supplies</td>\n",
       "      <td>Paper</td>\n",
       "      <td>Easy-staple paper</td>\n",
       "      <td>106.320</td>\n",
       "      <td>3</td>\n",
       "      <td>0.0</td>\n",
       "      <td>NaN</td>\n",
       "    </tr>\n",
       "    <tr>\n",
       "      <th>8</th>\n",
       "      <td>CA-2015-110863</td>\n",
       "      <td>2015-11-17</td>\n",
       "      <td>Standard Class</td>\n",
       "      <td>Central</td>\n",
       "      <td>FUR-CH-10002073</td>\n",
       "      <td>Furniture</td>\n",
       "      <td>Chairs</td>\n",
       "      <td>Hon Olson Stacker Chairs</td>\n",
       "      <td>1323.900</td>\n",
       "      <td>5</td>\n",
       "      <td>0.0</td>\n",
       "      <td>NaN</td>\n",
       "    </tr>\n",
       "    <tr>\n",
       "      <th>9</th>\n",
       "      <td>CA-2014-127859</td>\n",
       "      <td>2014-03-17</td>\n",
       "      <td>Second Class</td>\n",
       "      <td>East</td>\n",
       "      <td>OFF-PA-10003641</td>\n",
       "      <td>Office Supplies</td>\n",
       "      <td>Paper</td>\n",
       "      <td>Xerox 1909</td>\n",
       "      <td>126.624</td>\n",
       "      <td>6</td>\n",
       "      <td>0.2</td>\n",
       "      <td>NaN</td>\n",
       "    </tr>\n",
       "    <tr>\n",
       "      <th>10</th>\n",
       "      <td>US-2015-136427</td>\n",
       "      <td>2015-06-20</td>\n",
       "      <td>First Class</td>\n",
       "      <td>West</td>\n",
       "      <td>TEC-PH-10002070</td>\n",
       "      <td>Technology</td>\n",
       "      <td>Phones</td>\n",
       "      <td>Griffin GC36547 PowerJolt SE Lightning Charger</td>\n",
       "      <td>125.944</td>\n",
       "      <td>7</td>\n",
       "      <td>0.2</td>\n",
       "      <td>NaN</td>\n",
       "    </tr>\n",
       "    <tr>\n",
       "      <th>11</th>\n",
       "      <td>CA-2017-120168</td>\n",
       "      <td>2017-05-25</td>\n",
       "      <td>Same Day</td>\n",
       "      <td>East</td>\n",
       "      <td>OFF-BI-10004519</td>\n",
       "      <td>Office Supplies</td>\n",
       "      <td>Binders</td>\n",
       "      <td>GBC DocuBind P100 Manual Binding Machine</td>\n",
       "      <td>663.920</td>\n",
       "      <td>5</td>\n",
       "      <td>0.2</td>\n",
       "      <td>NaN</td>\n",
       "    </tr>\n",
       "    <tr>\n",
       "      <th>12</th>\n",
       "      <td>CA-2017-120168</td>\n",
       "      <td>2017-05-25</td>\n",
       "      <td>Same Day</td>\n",
       "      <td>East</td>\n",
       "      <td>TEC-AC-10002167</td>\n",
       "      <td>Technology</td>\n",
       "      <td>Accessories</td>\n",
       "      <td>Imation 8gb Micro Traveldrive Usb 2.0 Flash Drive</td>\n",
       "      <td>120.000</td>\n",
       "      <td>8</td>\n",
       "      <td>0.0</td>\n",
       "      <td>NaN</td>\n",
       "    </tr>\n",
       "    <tr>\n",
       "      <th>13</th>\n",
       "      <td>CA-2017-120168</td>\n",
       "      <td>2017-05-25</td>\n",
       "      <td>Same Day</td>\n",
       "      <td>East</td>\n",
       "      <td>OFF-FA-10000936</td>\n",
       "      <td>Office Supplies</td>\n",
       "      <td>Fasteners</td>\n",
       "      <td>Acco Hot Clips Clips to Go</td>\n",
       "      <td>3.290</td>\n",
       "      <td>1</td>\n",
       "      <td>0.0</td>\n",
       "      <td>NaN</td>\n",
       "    </tr>\n",
       "    <tr>\n",
       "      <th>14</th>\n",
       "      <td>CA-2017-120168</td>\n",
       "      <td>2017-05-25</td>\n",
       "      <td>Same Day</td>\n",
       "      <td>East</td>\n",
       "      <td>FUR-FU-10000732</td>\n",
       "      <td>Furniture</td>\n",
       "      <td>Furnishings</td>\n",
       "      <td>Eldon 200 Class Desk Accessories</td>\n",
       "      <td>18.840</td>\n",
       "      <td>3</td>\n",
       "      <td>0.0</td>\n",
       "      <td>NaN</td>\n",
       "    </tr>\n",
       "    <tr>\n",
       "      <th>15</th>\n",
       "      <td>US-2014-131870</td>\n",
       "      <td>2014-09-09</td>\n",
       "      <td>First Class</td>\n",
       "      <td>East</td>\n",
       "      <td>FUR-FU-10002501</td>\n",
       "      <td>Furniture</td>\n",
       "      <td>Furnishings</td>\n",
       "      <td>Nu-Dell Executive Frame</td>\n",
       "      <td>60.672</td>\n",
       "      <td>6</td>\n",
       "      <td>0.2</td>\n",
       "      <td>NaN</td>\n",
       "    </tr>\n",
       "    <tr>\n",
       "      <th>16</th>\n",
       "      <td>US-2014-131870</td>\n",
       "      <td>2014-09-09</td>\n",
       "      <td>First Class</td>\n",
       "      <td>East</td>\n",
       "      <td>OFF-AR-10000634</td>\n",
       "      <td>Office Supplies</td>\n",
       "      <td>Art</td>\n",
       "      <td>Newell 320</td>\n",
       "      <td>30.816</td>\n",
       "      <td>9</td>\n",
       "      <td>0.2</td>\n",
       "      <td>NaN</td>\n",
       "    </tr>\n",
       "    <tr>\n",
       "      <th>17</th>\n",
       "      <td>CA-2017-114804</td>\n",
       "      <td>2017-10-17</td>\n",
       "      <td>Second Class</td>\n",
       "      <td>West</td>\n",
       "      <td>TEC-PH-10001700</td>\n",
       "      <td>Technology</td>\n",
       "      <td>Phones</td>\n",
       "      <td>Panasonic KX-TG6844B Expandable Digital Cordle...</td>\n",
       "      <td>52.792</td>\n",
       "      <td>1</td>\n",
       "      <td>0.2</td>\n",
       "      <td>NaN</td>\n",
       "    </tr>\n",
       "    <tr>\n",
       "      <th>18</th>\n",
       "      <td>CA-2017-167227</td>\n",
       "      <td>2017-11-02</td>\n",
       "      <td>First Class</td>\n",
       "      <td>Central</td>\n",
       "      <td>OFF-AP-10001962</td>\n",
       "      <td>Office Supplies</td>\n",
       "      <td>Appliances</td>\n",
       "      <td>Black &amp; Decker Filter for Double Action Dustbu...</td>\n",
       "      <td>83.900</td>\n",
       "      <td>10</td>\n",
       "      <td>0.0</td>\n",
       "      <td>NaN</td>\n",
       "    </tr>\n",
       "    <tr>\n",
       "      <th>19</th>\n",
       "      <td>CA-2017-167227</td>\n",
       "      <td>2017-11-02</td>\n",
       "      <td>First Class</td>\n",
       "      <td>Central</td>\n",
       "      <td>OFF-PA-10001838</td>\n",
       "      <td>Office Supplies</td>\n",
       "      <td>Paper</td>\n",
       "      <td>Adams Telephone Message Book W/Dividers/Space ...</td>\n",
       "      <td>11.760</td>\n",
       "      <td>2</td>\n",
       "      <td>0.0</td>\n",
       "      <td>NaN</td>\n",
       "    </tr>\n",
       "  </tbody>\n",
       "</table>\n",
       "</div>"
      ],
      "text/plain": [
       "          Order ID  Order Date       Ship Mode   Region       Product ID  \\\n",
       "0   CA-2015-110870  2015-12-12     First Class     West  TEC-AC-10002926   \n",
       "1   CA-2015-110870  2015-12-12     First Class     West  OFF-SU-10001225   \n",
       "2   CA-2014-143210  2014-12-01     First Class     East  TEC-PH-10004434   \n",
       "3   CA-2014-143210  2014-12-01     First Class     East  FUR-FU-10003878   \n",
       "4   CA-2014-143210  2014-12-01     First Class     East  FUR-FU-10002268   \n",
       "5   CA-2016-139808  2016-10-07  Standard Class     West  OFF-FA-10001883   \n",
       "6   CA-2015-110863  2015-11-17  Standard Class  Central  OFF-ST-10002756   \n",
       "7   CA-2015-110863  2015-11-17  Standard Class  Central  OFF-PA-10000474   \n",
       "8   CA-2015-110863  2015-11-17  Standard Class  Central  FUR-CH-10002073   \n",
       "9   CA-2014-127859  2014-03-17    Second Class     East  OFF-PA-10003641   \n",
       "10  US-2015-136427  2015-06-20     First Class     West  TEC-PH-10002070   \n",
       "11  CA-2017-120168  2017-05-25        Same Day     East  OFF-BI-10004519   \n",
       "12  CA-2017-120168  2017-05-25        Same Day     East  TEC-AC-10002167   \n",
       "13  CA-2017-120168  2017-05-25        Same Day     East  OFF-FA-10000936   \n",
       "14  CA-2017-120168  2017-05-25        Same Day     East  FUR-FU-10000732   \n",
       "15  US-2014-131870  2014-09-09     First Class     East  FUR-FU-10002501   \n",
       "16  US-2014-131870  2014-09-09     First Class     East  OFF-AR-10000634   \n",
       "17  CA-2017-114804  2017-10-17    Second Class     West  TEC-PH-10001700   \n",
       "18  CA-2017-167227  2017-11-02     First Class  Central  OFF-AP-10001962   \n",
       "19  CA-2017-167227  2017-11-02     First Class  Central  OFF-PA-10001838   \n",
       "\n",
       "           Category Sub-Category  \\\n",
       "0        Technology  Accessories   \n",
       "1   Office Supplies     Supplies   \n",
       "2        Technology       Phones   \n",
       "3         Furniture  Furnishings   \n",
       "4         Furniture  Furnishings   \n",
       "5   Office Supplies    Fasteners   \n",
       "6   Office Supplies      Storage   \n",
       "7   Office Supplies        Paper   \n",
       "8         Furniture       Chairs   \n",
       "9   Office Supplies        Paper   \n",
       "10       Technology       Phones   \n",
       "11  Office Supplies      Binders   \n",
       "12       Technology  Accessories   \n",
       "13  Office Supplies    Fasteners   \n",
       "14        Furniture  Furnishings   \n",
       "15        Furniture  Furnishings   \n",
       "16  Office Supplies          Art   \n",
       "17       Technology       Phones   \n",
       "18  Office Supplies   Appliances   \n",
       "19  Office Supplies        Paper   \n",
       "\n",
       "                                         Product Name     Sales  Quantity  \\\n",
       "0               Logitech Wireless Marathon Mouse M705   299.940         6   \n",
       "1                                      Staple remover    25.760         7   \n",
       "2         Cisco IP Phone 7961G VoIP phone - Dark gray   271.900         2   \n",
       "3                  Linden 10\" Round Wall Clock, Black    45.840         3   \n",
       "4                               Ultra Door Push Plate     9.820         2   \n",
       "5           Alliance Super-Size Bands, Assorted Sizes    93.360        12   \n",
       "6   Tennsco Stur-D-Stor Boltless Shelving, 5 Shelv...   541.240         4   \n",
       "7                                   Easy-staple paper   106.320         3   \n",
       "8                            Hon Olson Stacker Chairs  1323.900         5   \n",
       "9                                          Xerox 1909   126.624         6   \n",
       "10     Griffin GC36547 PowerJolt SE Lightning Charger   125.944         7   \n",
       "11           GBC DocuBind P100 Manual Binding Machine   663.920         5   \n",
       "12  Imation 8gb Micro Traveldrive Usb 2.0 Flash Drive   120.000         8   \n",
       "13                         Acco Hot Clips Clips to Go     3.290         1   \n",
       "14                   Eldon 200 Class Desk Accessories    18.840         3   \n",
       "15                            Nu-Dell Executive Frame    60.672         6   \n",
       "16                                         Newell 320    30.816         9   \n",
       "17  Panasonic KX-TG6844B Expandable Digital Cordle...    52.792         1   \n",
       "18  Black & Decker Filter for Double Action Dustbu...    83.900        10   \n",
       "19  Adams Telephone Message Book W/Dividers/Space ...    11.760         2   \n",
       "\n",
       "    Discount  Profit  \n",
       "0        0.0     NaN  \n",
       "1        0.0     NaN  \n",
       "2        0.0     NaN  \n",
       "3        0.0     NaN  \n",
       "4        0.0     NaN  \n",
       "5        0.0     NaN  \n",
       "6        0.0     NaN  \n",
       "7        0.0     NaN  \n",
       "8        0.0     NaN  \n",
       "9        0.2     NaN  \n",
       "10       0.2     NaN  \n",
       "11       0.2     NaN  \n",
       "12       0.0     NaN  \n",
       "13       0.0     NaN  \n",
       "14       0.0     NaN  \n",
       "15       0.2     NaN  \n",
       "16       0.2     NaN  \n",
       "17       0.2     NaN  \n",
       "18       0.0     NaN  \n",
       "19       0.0     NaN  "
      ]
     },
     "execution_count": 11,
     "metadata": {},
     "output_type": "execute_result"
    }
   ],
   "source": [
    "# visual assessment of first 20 rows of the investigation dataset\n",
    "null_investigation.head(20)"
   ]
  },
  {
   "cell_type": "code",
   "execution_count": 12,
   "id": "9d1175fb",
   "metadata": {},
   "outputs": [
    {
     "data": {
      "text/plain": [
       "West       598\n",
       "East       578\n",
       "Central    506\n",
       "South      312\n",
       "Name: Region, dtype: int64"
      ]
     },
     "execution_count": 12,
     "metadata": {},
     "output_type": "execute_result"
    }
   ],
   "source": [
    "# value counts of the regions \n",
    "null_investigation.Region.value_counts()"
   ]
  },
  {
   "cell_type": "code",
   "execution_count": 13,
   "id": "f38d964d",
   "metadata": {},
   "outputs": [
    {
     "data": {
      "text/plain": [
       "Standard Class    1179\n",
       "Second Class       381\n",
       "First Class        318\n",
       "Same Day           116\n",
       "Name: Ship Mode, dtype: int64"
      ]
     },
     "execution_count": 13,
     "metadata": {},
     "output_type": "execute_result"
    }
   ],
   "source": [
    "# value counts of the ship modes\n",
    "null_investigation['Ship Mode'].value_counts()"
   ]
  },
  {
   "cell_type": "markdown",
   "id": "74fd8eeb",
   "metadata": {},
   "source": [
    "__Data Quality__\n",
    "- missing values in profit column\n",
    "- Improper column names\n",
    "- Excessive number of decimal places for the sales and profit column\n",
    "- Inappropriate datatype for some columns\n",
    "- One duplicated row in the dataset"
   ]
  },
  {
   "cell_type": "markdown",
   "id": "d5a625af",
   "metadata": {},
   "source": [
    "#### Clean Data"
   ]
  },
  {
   "cell_type": "markdown",
   "id": "10f2a654",
   "metadata": {},
   "source": [
    "###### Define\n",
    "Rename all columns to change to lower case, replace spaces and hyphens with underscores"
   ]
  },
  {
   "cell_type": "markdown",
   "id": "526b1214",
   "metadata": {},
   "source": [
    "###### Code"
   ]
  },
  {
   "cell_type": "code",
   "execution_count": 14,
   "id": "d61cd143",
   "metadata": {},
   "outputs": [],
   "source": [
    "# rename columns\n",
    "office_supplies.columns = ['order_id','order_date','ship_mode','region','product_id','category','sub_category','product_name','sales','quantity','discount','profit']"
   ]
  },
  {
   "cell_type": "markdown",
   "id": "013f7a9e",
   "metadata": {},
   "source": [
    "###### Test"
   ]
  },
  {
   "cell_type": "code",
   "execution_count": 15,
   "id": "e519f286",
   "metadata": {},
   "outputs": [
    {
     "data": {
      "text/plain": [
       "Index(['order_id', 'order_date', 'ship_mode', 'region', 'product_id',\n",
       "       'category', 'sub_category', 'product_name', 'sales', 'quantity',\n",
       "       'discount', 'profit'],\n",
       "      dtype='object')"
      ]
     },
     "execution_count": 15,
     "metadata": {},
     "output_type": "execute_result"
    }
   ],
   "source": [
    "# confirm column name changes\n",
    "office_supplies.columns"
   ]
  },
  {
   "cell_type": "code",
   "execution_count": 16,
   "id": "8c1f56c7",
   "metadata": {},
   "outputs": [
    {
     "data": {
      "text/html": [
       "<div>\n",
       "<style scoped>\n",
       "    .dataframe tbody tr th:only-of-type {\n",
       "        vertical-align: middle;\n",
       "    }\n",
       "\n",
       "    .dataframe tbody tr th {\n",
       "        vertical-align: top;\n",
       "    }\n",
       "\n",
       "    .dataframe thead th {\n",
       "        text-align: right;\n",
       "    }\n",
       "</style>\n",
       "<table border=\"1\" class=\"dataframe\">\n",
       "  <thead>\n",
       "    <tr style=\"text-align: right;\">\n",
       "      <th></th>\n",
       "      <th>order_id</th>\n",
       "      <th>order_date</th>\n",
       "      <th>ship_mode</th>\n",
       "      <th>region</th>\n",
       "      <th>product_id</th>\n",
       "      <th>category</th>\n",
       "      <th>sub_category</th>\n",
       "      <th>product_name</th>\n",
       "      <th>sales</th>\n",
       "      <th>quantity</th>\n",
       "      <th>discount</th>\n",
       "      <th>profit</th>\n",
       "    </tr>\n",
       "  </thead>\n",
       "  <tbody>\n",
       "    <tr>\n",
       "      <th>0</th>\n",
       "      <td>CA-2015-110870</td>\n",
       "      <td>2015-12-12</td>\n",
       "      <td>First Class</td>\n",
       "      <td>West</td>\n",
       "      <td>TEC-AC-10002926</td>\n",
       "      <td>Technology</td>\n",
       "      <td>Accessories</td>\n",
       "      <td>Logitech Wireless Marathon Mouse M705</td>\n",
       "      <td>299.94</td>\n",
       "      <td>6</td>\n",
       "      <td>0.0</td>\n",
       "      <td>NaN</td>\n",
       "    </tr>\n",
       "    <tr>\n",
       "      <th>1</th>\n",
       "      <td>CA-2015-110870</td>\n",
       "      <td>2015-12-12</td>\n",
       "      <td>First Class</td>\n",
       "      <td>West</td>\n",
       "      <td>OFF-SU-10001225</td>\n",
       "      <td>Office Supplies</td>\n",
       "      <td>Supplies</td>\n",
       "      <td>Staple remover</td>\n",
       "      <td>25.76</td>\n",
       "      <td>7</td>\n",
       "      <td>0.0</td>\n",
       "      <td>NaN</td>\n",
       "    </tr>\n",
       "  </tbody>\n",
       "</table>\n",
       "</div>"
      ],
      "text/plain": [
       "         order_id  order_date    ship_mode region       product_id  \\\n",
       "0  CA-2015-110870  2015-12-12  First Class   West  TEC-AC-10002926   \n",
       "1  CA-2015-110870  2015-12-12  First Class   West  OFF-SU-10001225   \n",
       "\n",
       "          category sub_category                           product_name  \\\n",
       "0       Technology  Accessories  Logitech Wireless Marathon Mouse M705   \n",
       "1  Office Supplies     Supplies                         Staple remover   \n",
       "\n",
       "    sales  quantity  discount  profit  \n",
       "0  299.94         6       0.0     NaN  \n",
       "1   25.76         7       0.0     NaN  "
      ]
     },
     "execution_count": 16,
     "metadata": {},
     "output_type": "execute_result"
    }
   ],
   "source": [
    "# view the column names with a few rows of data\n",
    "office_supplies.head(2)"
   ]
  },
  {
   "cell_type": "markdown",
   "id": "7f1240aa",
   "metadata": {},
   "source": [
    "###### Define\n",
    "Round sales and profit columns to two decimal places"
   ]
  },
  {
   "cell_type": "markdown",
   "id": "de629b4c",
   "metadata": {},
   "source": [
    "###### Code"
   ]
  },
  {
   "cell_type": "code",
   "execution_count": 17,
   "id": "3c3b9be9",
   "metadata": {},
   "outputs": [],
   "source": [
    "# round the sales and profit columns\n",
    "office_supplies.sales = office_supplies.sales.round(2)\n",
    "office_supplies.profit = office_supplies.profit.round(2)"
   ]
  },
  {
   "cell_type": "markdown",
   "id": "1cc95f93",
   "metadata": {},
   "source": [
    "###### Test"
   ]
  },
  {
   "cell_type": "code",
   "execution_count": 18,
   "id": "d2a86aef",
   "metadata": {},
   "outputs": [
    {
     "data": {
      "text/html": [
       "<div>\n",
       "<style scoped>\n",
       "    .dataframe tbody tr th:only-of-type {\n",
       "        vertical-align: middle;\n",
       "    }\n",
       "\n",
       "    .dataframe tbody tr th {\n",
       "        vertical-align: top;\n",
       "    }\n",
       "\n",
       "    .dataframe thead th {\n",
       "        text-align: right;\n",
       "    }\n",
       "</style>\n",
       "<table border=\"1\" class=\"dataframe\">\n",
       "  <thead>\n",
       "    <tr style=\"text-align: right;\">\n",
       "      <th></th>\n",
       "      <th>sales</th>\n",
       "      <th>profit</th>\n",
       "    </tr>\n",
       "  </thead>\n",
       "  <tbody>\n",
       "    <tr>\n",
       "      <th>8241</th>\n",
       "      <td>6.24</td>\n",
       "      <td>2.62</td>\n",
       "    </tr>\n",
       "    <tr>\n",
       "      <th>1546</th>\n",
       "      <td>6.85</td>\n",
       "      <td>NaN</td>\n",
       "    </tr>\n",
       "    <tr>\n",
       "      <th>9795</th>\n",
       "      <td>12.00</td>\n",
       "      <td>4.20</td>\n",
       "    </tr>\n",
       "    <tr>\n",
       "      <th>5118</th>\n",
       "      <td>563.81</td>\n",
       "      <td>21.14</td>\n",
       "    </tr>\n",
       "    <tr>\n",
       "      <th>2533</th>\n",
       "      <td>468.90</td>\n",
       "      <td>206.32</td>\n",
       "    </tr>\n",
       "  </tbody>\n",
       "</table>\n",
       "</div>"
      ],
      "text/plain": [
       "       sales  profit\n",
       "8241    6.24    2.62\n",
       "1546    6.85     NaN\n",
       "9795   12.00    4.20\n",
       "5118  563.81   21.14\n",
       "2533  468.90  206.32"
      ]
     },
     "execution_count": 18,
     "metadata": {},
     "output_type": "execute_result"
    }
   ],
   "source": [
    "# a view of just the sales and profit columns with few rows\n",
    "office_supplies[['sales','profit']].sample(5)"
   ]
  },
  {
   "cell_type": "markdown",
   "id": "9a4c08b2",
   "metadata": {},
   "source": [
    "###### Define\n",
    "Change all inappropriate datatypes to the appropriate datatype"
   ]
  },
  {
   "cell_type": "markdown",
   "id": "e45d52a9",
   "metadata": {},
   "source": [
    "###### Code"
   ]
  },
  {
   "cell_type": "code",
   "execution_count": 19,
   "id": "75020c8b",
   "metadata": {},
   "outputs": [],
   "source": [
    "# extract the years from the order date column\n",
    "office_supplies['year'] = office_supplies.order_date.str.extract(r\"([0-9]{4})\")"
   ]
  },
  {
   "cell_type": "code",
   "execution_count": 20,
   "id": "87ae1c4d",
   "metadata": {},
   "outputs": [],
   "source": [
    "# extract the months from the order date column\n",
    "office_supplies['month'] = office_supplies.order_date.str.extract(r\"-([0-9]{2})-\")"
   ]
  },
  {
   "cell_type": "code",
   "execution_count": 21,
   "id": "8bea8ddf",
   "metadata": {},
   "outputs": [],
   "source": [
    "# convert order_date column to datetime datatype\n",
    "office_supplies.order_date = pd.to_datetime(office_supplies.order_date)"
   ]
  },
  {
   "cell_type": "code",
   "execution_count": 22,
   "id": "c7bee9de",
   "metadata": {},
   "outputs": [],
   "source": [
    "# convert ship_mode, region and category columns to category datatype\n",
    "office_supplies[['ship_mode','region','category']] = office_supplies[['ship_mode','region','category']].astype('category')\n",
    "office_supplies[['year','month']] = office_supplies[['year','month']].astype('int')"
   ]
  },
  {
   "cell_type": "markdown",
   "id": "f5654548",
   "metadata": {},
   "source": [
    "###### Test"
   ]
  },
  {
   "cell_type": "code",
   "execution_count": 23,
   "id": "197c338d",
   "metadata": {},
   "outputs": [
    {
     "data": {
      "text/plain": [
       "2017    3312\n",
       "2016    2587\n",
       "2015    2101\n",
       "2014    1993\n",
       "Name: year, dtype: int64"
      ]
     },
     "execution_count": 23,
     "metadata": {},
     "output_type": "execute_result"
    }
   ],
   "source": [
    "# check the year column\n",
    "office_supplies.year.value_counts()"
   ]
  },
  {
   "cell_type": "code",
   "execution_count": 24,
   "id": "5d913a78",
   "metadata": {},
   "outputs": [
    {
     "data": {
      "text/plain": [
       "11    1470\n",
       "12    1408\n",
       "9     1383\n",
       "10     819\n",
       "5      735\n",
       "6      717\n",
       "7      710\n",
       "8      706\n",
       "3      696\n",
       "4      668\n",
       "1      381\n",
       "2      300\n",
       "Name: month, dtype: int64"
      ]
     },
     "execution_count": 24,
     "metadata": {},
     "output_type": "execute_result"
    }
   ],
   "source": [
    "# check the month column\n",
    "office_supplies.month.value_counts(dropna=False)"
   ]
  },
  {
   "cell_type": "code",
   "execution_count": 25,
   "id": "086cf5b9",
   "metadata": {},
   "outputs": [
    {
     "data": {
      "text/plain": [
       "order_id                object\n",
       "order_date      datetime64[ns]\n",
       "ship_mode             category\n",
       "region                category\n",
       "product_id              object\n",
       "category              category\n",
       "sub_category            object\n",
       "product_name            object\n",
       "sales                  float64\n",
       "quantity                 int64\n",
       "discount               float64\n",
       "profit                 float64\n",
       "year                     int32\n",
       "month                    int32\n",
       "dtype: object"
      ]
     },
     "execution_count": 25,
     "metadata": {},
     "output_type": "execute_result"
    }
   ],
   "source": [
    "# overview of the datatypes\n",
    "office_supplies.dtypes"
   ]
  },
  {
   "cell_type": "markdown",
   "id": "e04a0a19",
   "metadata": {},
   "source": [
    "###### Define\n",
    "Drop duplicate row and replace all missing values in the profit column with the mean"
   ]
  },
  {
   "cell_type": "markdown",
   "id": "0b3a4c64",
   "metadata": {},
   "source": [
    "###### Code"
   ]
  },
  {
   "cell_type": "code",
   "execution_count": 26,
   "id": "0fa38892",
   "metadata": {},
   "outputs": [],
   "source": [
    "# drop duplicate row\n",
    "office_supplies = office_supplies.drop_duplicates(keep='first')"
   ]
  },
  {
   "cell_type": "code",
   "execution_count": 27,
   "id": "f55e454f",
   "metadata": {},
   "outputs": [],
   "source": [
    "# replace all null values with the mean of the profit column\n",
    "office_supplies.profit = office_supplies.profit.fillna(round(office_supplies.profit.mean(),2))"
   ]
  },
  {
   "cell_type": "markdown",
   "id": "30376598",
   "metadata": {},
   "source": [
    "###### Test"
   ]
  },
  {
   "cell_type": "code",
   "execution_count": 28,
   "id": "bfd2c9fc",
   "metadata": {},
   "outputs": [
    {
     "data": {
      "text/plain": [
       "0"
      ]
     },
     "execution_count": 28,
     "metadata": {},
     "output_type": "execute_result"
    }
   ],
   "source": [
    "# check for duplicates\n",
    "office_supplies.duplicated().sum()"
   ]
  },
  {
   "cell_type": "code",
   "execution_count": 29,
   "id": "9ad0dd10",
   "metadata": {},
   "outputs": [
    {
     "data": {
      "text/plain": [
       "0"
      ]
     },
     "execution_count": 29,
     "metadata": {},
     "output_type": "execute_result"
    }
   ],
   "source": [
    "# check for null values in the profit column\n",
    "office_supplies.profit.isnull().sum()"
   ]
  },
  {
   "cell_type": "markdown",
   "id": "c56a3ffa",
   "metadata": {},
   "source": [
    "### Exploratory Analysis"
   ]
  },
  {
   "cell_type": "markdown",
   "id": "eeeed50e",
   "metadata": {},
   "source": [
    "__Question 1__: Are there products that do not sell as well in some locations?"
   ]
  },
  {
   "cell_type": "markdown",
   "id": "51a965c6",
   "metadata": {},
   "source": [
    "Investigate the sales variable"
   ]
  },
  {
   "cell_type": "code",
   "execution_count": 309,
   "id": "062e103a",
   "metadata": {
    "scrolled": true
   },
   "outputs": [
    {
     "data": {
      "image/png": "[encoded data removed]",
      "text/plain": [
       "<Figure size 300x300 with 1 Axes>"
      ]
     },
     "metadata": {},
     "output_type": "display_data"
    }
   ],
   "source": [
    "# plot a histogram to show distribution of the sales variable\n",
    "fig, ax = plt.subplots(figsize=[3,3])\n",
    "ax.hist(office_supplies.sales, bins = np.linspace(office_supplies.sales.min(),office_supplies.sales.max(), 50));\n",
    "plt.xlim([0,3000])\n",
    "#plt.xlim(0,office_supplies.sales.max() + 500)\n",
    "plt.title('Sales Distribution in all regions');\n",
    "plt.ylabel('Frequency');\n",
    "plt.xlabel('Sales (USD)');"
   ]
  },
  {
   "cell_type": "code",
   "execution_count": 305,
   "id": "0c65cba5",
   "metadata": {},
   "outputs": [
    {
     "data": {
      "image/png": "[encoded data removed]",
      "text/plain": [
       "<Figure size 300x300 with 1 Axes>"
      ]
     },
     "metadata": {},
     "output_type": "display_data"
    }
   ],
   "source": [
    "# bar chart to show the number of orders for each region\n",
    "plt.style.use('default')\n",
    "plt.style.use('ggplot')\n",
    "fig, ax = plt.subplots(figsize=[3,3])\n",
    "ax = office_supplies.region.value_counts().sort_values(ascending=True).plot.barh(width=0.4)\n",
    "for loc in ['left','right','top','bottom']:\n",
    "    ax.spines[loc].set_visible(False)\n",
    "ax.tick_params(grid_alpha=0,left=False,bottom=False)\n",
    "ax.set_xlabel('Number of Orders');\n",
    "ax.text(0,3.6,'Count of Orders per Region',size=11,color='gray',weight='bold');\n",
    "fig.savefig('count_per_region',dpi=300)"
   ]
  },
  {
   "cell_type": "code",
   "execution_count": 266,
   "id": "2fa153b8",
   "metadata": {},
   "outputs": [
    {
     "data": {
      "image/png": "[encoded data removed]",
      "text/plain": [
       "<Figure size 300x300 with 1 Axes>"
      ]
     },
     "metadata": {},
     "output_type": "display_data"
    }
   ],
   "source": [
    "# bar chart to show the number of orders for each region\n",
    "plt.style.use('default')\n",
    "fig, ax = plt.subplots(figsize=[3,3])\n",
    "ax = office_supplies.category.value_counts().plot.barh()\n",
    "for loc in ['left','right','top','bottom']:\n",
    "    ax.spines[loc].set_visible(False)\n",
    "ax.tick_params(left=False,bottom =False)"
   ]
  },
  {
   "cell_type": "code",
   "execution_count": 234,
   "id": "611ac035",
   "metadata": {},
   "outputs": [
    {
     "data": {
      "image/png": "[encoded data removed]",
      "text/plain": [
       "<Figure size 640x480 with 1 Axes>"
      ]
     },
     "metadata": {},
     "output_type": "display_data"
    }
   ],
   "source": [
    "# histogram showing distribution of discount\n",
    "fig, ax = plt.subplots()\n",
    "ax.hist(office_supplies.discount, bins = np.linspace(office_supplies.discount.min(),office_supplies.discount.max()+0.2,16));\n",
    "ax.set_xticks(np.linspace(0,1.0,10),['{:.1f}'.format(x) for x in np.linspace(0,1,10)]);\n",
    "plt.xlim([0,0.9]);"
   ]
  },
  {
   "cell_type": "markdown",
   "id": "f7199e3e",
   "metadata": {},
   "source": [
    "Investigate the regions with the best sales"
   ]
  },
  {
   "cell_type": "code",
   "execution_count": 32,
   "id": "d4c9d534",
   "metadata": {},
   "outputs": [
    {
     "data": {
      "text/html": [
       "<div>\n",
       "<style scoped>\n",
       "    .dataframe tbody tr th:only-of-type {\n",
       "        vertical-align: middle;\n",
       "    }\n",
       "\n",
       "    .dataframe tbody tr th {\n",
       "        vertical-align: top;\n",
       "    }\n",
       "\n",
       "    .dataframe thead th {\n",
       "        text-align: right;\n",
       "    }\n",
       "</style>\n",
       "<table border=\"1\" class=\"dataframe\">\n",
       "  <thead>\n",
       "    <tr style=\"text-align: right;\">\n",
       "      <th></th>\n",
       "      <th>region</th>\n",
       "      <th>sales</th>\n",
       "    </tr>\n",
       "  </thead>\n",
       "  <tbody>\n",
       "    <tr>\n",
       "      <th>0</th>\n",
       "      <td>West</td>\n",
       "      <td>725457.80</td>\n",
       "    </tr>\n",
       "    <tr>\n",
       "      <th>1</th>\n",
       "      <td>East</td>\n",
       "      <td>678499.96</td>\n",
       "    </tr>\n",
       "    <tr>\n",
       "      <th>2</th>\n",
       "      <td>Central</td>\n",
       "      <td>500975.81</td>\n",
       "    </tr>\n",
       "    <tr>\n",
       "      <th>3</th>\n",
       "      <td>South</td>\n",
       "      <td>391721.85</td>\n",
       "    </tr>\n",
       "  </tbody>\n",
       "</table>\n",
       "</div>"
      ],
      "text/plain": [
       "    region      sales\n",
       "0     West  725457.80\n",
       "1     East  678499.96\n",
       "2  Central  500975.81\n",
       "3    South  391721.85"
      ]
     },
     "execution_count": 32,
     "metadata": {},
     "output_type": "execute_result"
    }
   ],
   "source": [
    "# group the dataset by regions to show sales\n",
    "region_sales = office_supplies.groupby('region').sum()['sales'].sort_values(ascending=False).reset_index()\n",
    "region_sales"
   ]
  },
  {
   "cell_type": "code",
   "execution_count": 292,
   "id": "80371038",
   "metadata": {},
   "outputs": [
    {
     "data": {
      "image/png": "[encoded data removed]",
      "text/plain": [
       "<Figure size 640x480 with 1 Axes>"
      ]
     },
     "metadata": {},
     "output_type": "display_data"
    }
   ],
   "source": [
    "# plot a bar chart to show the total sales for each region\n",
    "plt.style.use('default')\n",
    "plt.style.use('ggplot')\n",
    "fig, ax = plt.subplots()\n",
    "ax = sns.barplot(data=region_sales,x='region',y='sales', palette = ['gray','gray','gray','red'], order = region_sales.region)\n",
    "ax.text(-0.45,850000,'The Mean Total Sales for all Regions is USD 574k',size=12,weight='bold')\n",
    "ax.text(-0.45,800000,'Total sales by Pens & Printers for each region',size=12)\n",
    "ax.set_xlabel('')\n",
    "ax.set_ylabel('')\n",
    "ax.set_yticks([])\n",
    "ax.tick_params(which='major',bottom=False,top=False,grid_alpha=0.0)\n",
    "for i, h, text in zip(range(4),region_sales.sales,['$725k','$678k','$500k','$391k']):\n",
    "    ax.text(i-0.2,h + 3500,text)\n",
    "ax.text(-0.5,-110000,'©Elias'+' '*53+'Source: DataCamp',backgroundcolor='#5A5A5A',size=12,color='white');"
   ]
  },
  {
   "cell_type": "markdown",
   "id": "0aa3413b",
   "metadata": {},
   "source": [
    "Investigate the correlation between quantity and sales"
   ]
  },
  {
   "cell_type": "code",
   "execution_count": 237,
   "id": "f290f925",
   "metadata": {},
   "outputs": [
    {
     "data": {
      "text/html": [
       "<div>\n",
       "<style scoped>\n",
       "    .dataframe tbody tr th:only-of-type {\n",
       "        vertical-align: middle;\n",
       "    }\n",
       "\n",
       "    .dataframe tbody tr th {\n",
       "        vertical-align: top;\n",
       "    }\n",
       "\n",
       "    .dataframe thead th {\n",
       "        text-align: right;\n",
       "    }\n",
       "</style>\n",
       "<table border=\"1\" class=\"dataframe\">\n",
       "  <thead>\n",
       "    <tr style=\"text-align: right;\">\n",
       "      <th></th>\n",
       "      <th>sales</th>\n",
       "      <th>quantity</th>\n",
       "      <th>discount</th>\n",
       "      <th>profit</th>\n",
       "    </tr>\n",
       "  </thead>\n",
       "  <tbody>\n",
       "    <tr>\n",
       "      <th>sales</th>\n",
       "      <td>1.000000</td>\n",
       "      <td>0.200808</td>\n",
       "      <td>-0.028193</td>\n",
       "      <td>0.369756</td>\n",
       "    </tr>\n",
       "    <tr>\n",
       "      <th>quantity</th>\n",
       "      <td>0.200808</td>\n",
       "      <td>1.000000</td>\n",
       "      <td>0.008687</td>\n",
       "      <td>0.056299</td>\n",
       "    </tr>\n",
       "    <tr>\n",
       "      <th>discount</th>\n",
       "      <td>-0.028193</td>\n",
       "      <td>0.008687</td>\n",
       "      <td>1.000000</td>\n",
       "      <td>-0.202151</td>\n",
       "    </tr>\n",
       "    <tr>\n",
       "      <th>profit</th>\n",
       "      <td>0.369756</td>\n",
       "      <td>0.056299</td>\n",
       "      <td>-0.202151</td>\n",
       "      <td>1.000000</td>\n",
       "    </tr>\n",
       "  </tbody>\n",
       "</table>\n",
       "</div>"
      ],
      "text/plain": [
       "             sales  quantity  discount    profit\n",
       "sales     1.000000  0.200808 -0.028193  0.369756\n",
       "quantity  0.200808  1.000000  0.008687  0.056299\n",
       "discount -0.028193  0.008687  1.000000 -0.202151\n",
       "profit    0.369756  0.056299 -0.202151  1.000000"
      ]
     },
     "execution_count": 237,
     "metadata": {},
     "output_type": "execute_result"
    }
   ],
   "source": [
    "# correlation between sales, quantity, profit and discount\n",
    "corr = office_supplies.corr()[['sales','quantity','discount','profit']].loc['sales':'profit']"
   ]
  },
  {
   "cell_type": "code",
   "execution_count": 239,
   "id": "04ad2ef1",
   "metadata": {},
   "outputs": [
    {
     "data": {
      "image/png": "[encoded data removed]",
      "text/plain": [
       "<Figure size 640x480 with 1 Axes>"
      ]
     },
     "metadata": {},
     "output_type": "display_data"
    }
   ],
   "source": [
    "# scatter plot of sales against profit\n",
    "fig, ax = plt.subplots()\n",
    "ax = sns.scatterplot(data=office_supplies,x='sales',y='profit',alpha=0.5)"
   ]
  },
  {
   "cell_type": "markdown",
   "id": "2e119cb4",
   "metadata": {},
   "source": [
    "There is a weak to moderate correlation between profit and sales"
   ]
  },
  {
   "cell_type": "code",
   "execution_count": null,
   "id": "bae7dad6",
   "metadata": {},
   "outputs": [],
   "source": []
  },
  {
   "cell_type": "markdown",
   "id": "d58cb7f9",
   "metadata": {},
   "source": [
    "Create a pivot table to show the quantity and sales of each product category ordered for different regions"
   ]
  },
  {
   "cell_type": "code",
   "execution_count": 36,
   "id": "3f610e82",
   "metadata": {},
   "outputs": [
    {
     "data": {
      "text/html": [
       "<div>\n",
       "<style scoped>\n",
       "    .dataframe tbody tr th:only-of-type {\n",
       "        vertical-align: middle;\n",
       "    }\n",
       "\n",
       "    .dataframe tbody tr th {\n",
       "        vertical-align: top;\n",
       "    }\n",
       "\n",
       "    .dataframe thead th {\n",
       "        text-align: right;\n",
       "    }\n",
       "</style>\n",
       "<table border=\"1\" class=\"dataframe\">\n",
       "  <thead>\n",
       "    <tr style=\"text-align: right;\">\n",
       "      <th></th>\n",
       "      <th>region</th>\n",
       "      <th>category</th>\n",
       "      <th>sales</th>\n",
       "    </tr>\n",
       "  </thead>\n",
       "  <tbody>\n",
       "    <tr>\n",
       "      <th>0</th>\n",
       "      <td>Central</td>\n",
       "      <td>Furniture</td>\n",
       "      <td>163797.15</td>\n",
       "    </tr>\n",
       "    <tr>\n",
       "      <th>1</th>\n",
       "      <td>Central</td>\n",
       "      <td>Office Supplies</td>\n",
       "      <td>167026.33</td>\n",
       "    </tr>\n",
       "    <tr>\n",
       "      <th>2</th>\n",
       "      <td>Central</td>\n",
       "      <td>Technology</td>\n",
       "      <td>170152.33</td>\n",
       "    </tr>\n",
       "    <tr>\n",
       "      <th>3</th>\n",
       "      <td>East</td>\n",
       "      <td>Furniture</td>\n",
       "      <td>208009.77</td>\n",
       "    </tr>\n",
       "    <tr>\n",
       "      <th>4</th>\n",
       "      <td>East</td>\n",
       "      <td>Office Supplies</td>\n",
       "      <td>205516.15</td>\n",
       "    </tr>\n",
       "    <tr>\n",
       "      <th>5</th>\n",
       "      <td>East</td>\n",
       "      <td>Technology</td>\n",
       "      <td>264974.04</td>\n",
       "    </tr>\n",
       "    <tr>\n",
       "      <th>6</th>\n",
       "      <td>South</td>\n",
       "      <td>Furniture</td>\n",
       "      <td>117298.68</td>\n",
       "    </tr>\n",
       "    <tr>\n",
       "      <th>7</th>\n",
       "      <td>South</td>\n",
       "      <td>Office Supplies</td>\n",
       "      <td>125651.28</td>\n",
       "    </tr>\n",
       "    <tr>\n",
       "      <th>8</th>\n",
       "      <td>South</td>\n",
       "      <td>Technology</td>\n",
       "      <td>148771.89</td>\n",
       "    </tr>\n",
       "    <tr>\n",
       "      <th>9</th>\n",
       "      <td>West</td>\n",
       "      <td>Furniture</td>\n",
       "      <td>252612.76</td>\n",
       "    </tr>\n",
       "    <tr>\n",
       "      <th>10</th>\n",
       "      <td>West</td>\n",
       "      <td>Office Supplies</td>\n",
       "      <td>220853.19</td>\n",
       "    </tr>\n",
       "    <tr>\n",
       "      <th>11</th>\n",
       "      <td>West</td>\n",
       "      <td>Technology</td>\n",
       "      <td>251991.85</td>\n",
       "    </tr>\n",
       "  </tbody>\n",
       "</table>\n",
       "</div>"
      ],
      "text/plain": [
       "     region         category      sales\n",
       "0   Central        Furniture  163797.15\n",
       "1   Central  Office Supplies  167026.33\n",
       "2   Central       Technology  170152.33\n",
       "3      East        Furniture  208009.77\n",
       "4      East  Office Supplies  205516.15\n",
       "5      East       Technology  264974.04\n",
       "6     South        Furniture  117298.68\n",
       "7     South  Office Supplies  125651.28\n",
       "8     South       Technology  148771.89\n",
       "9      West        Furniture  252612.76\n",
       "10     West  Office Supplies  220853.19\n",
       "11     West       Technology  251991.85"
      ]
     },
     "execution_count": 36,
     "metadata": {},
     "output_type": "execute_result"
    }
   ],
   "source": [
    "# group by region and category and summarize by sum\n",
    "reg_cat_sum_group = office_supplies[['region','category','sales']].groupby(['region','category']).sum().reset_index()\n",
    "reg_cat_sum_group"
   ]
  },
  {
   "cell_type": "code",
   "execution_count": 37,
   "id": "21dadbe5",
   "metadata": {},
   "outputs": [
    {
     "data": {
      "text/html": [
       "<div>\n",
       "<style scoped>\n",
       "    .dataframe tbody tr th:only-of-type {\n",
       "        vertical-align: middle;\n",
       "    }\n",
       "\n",
       "    .dataframe tbody tr th {\n",
       "        vertical-align: top;\n",
       "    }\n",
       "\n",
       "    .dataframe thead tr th {\n",
       "        text-align: left;\n",
       "    }\n",
       "\n",
       "    .dataframe thead tr:last-of-type th {\n",
       "        text-align: right;\n",
       "    }\n",
       "</style>\n",
       "<table border=\"1\" class=\"dataframe\">\n",
       "  <thead>\n",
       "    <tr>\n",
       "      <th></th>\n",
       "      <th colspan=\"4\" halign=\"left\">sales</th>\n",
       "    </tr>\n",
       "    <tr>\n",
       "      <th>region</th>\n",
       "      <th>South</th>\n",
       "      <th>Central</th>\n",
       "      <th>East</th>\n",
       "      <th>West</th>\n",
       "    </tr>\n",
       "    <tr>\n",
       "      <th>category</th>\n",
       "      <th></th>\n",
       "      <th></th>\n",
       "      <th></th>\n",
       "      <th></th>\n",
       "    </tr>\n",
       "  </thead>\n",
       "  <tbody>\n",
       "    <tr>\n",
       "      <th>Furniture</th>\n",
       "      <td>117298.68</td>\n",
       "      <td>163797.15</td>\n",
       "      <td>208009.77</td>\n",
       "      <td>252612.76</td>\n",
       "    </tr>\n",
       "    <tr>\n",
       "      <th>Office Supplies</th>\n",
       "      <td>125651.28</td>\n",
       "      <td>167026.33</td>\n",
       "      <td>205516.15</td>\n",
       "      <td>220853.19</td>\n",
       "    </tr>\n",
       "    <tr>\n",
       "      <th>Technology</th>\n",
       "      <td>148771.89</td>\n",
       "      <td>170152.33</td>\n",
       "      <td>264974.04</td>\n",
       "      <td>251991.85</td>\n",
       "    </tr>\n",
       "  </tbody>\n",
       "</table>\n",
       "</div>"
      ],
      "text/plain": [
       "                     sales                                 \n",
       "region               South    Central       East       West\n",
       "category                                                   \n",
       "Furniture        117298.68  163797.15  208009.77  252612.76\n",
       "Office Supplies  125651.28  167026.33  205516.15  220853.19\n",
       "Technology       148771.89  170152.33  264974.04  251991.85"
      ]
     },
     "execution_count": 37,
     "metadata": {},
     "output_type": "execute_result"
    }
   ],
   "source": [
    "# create a pivot table with regions as index and product categories as columns\n",
    "reg_cat_sum_pivot = reg_cat_sum_group.pivot(index='category',columns='region')\n",
    "reg_cat_sum_pivot = reg_cat_sum_pivot.sort_values('Furniture',axis=1)\n",
    "reg_cat_sum_pivot"
   ]
  },
  {
   "cell_type": "code",
   "execution_count": 38,
   "id": "f7cdb65a",
   "metadata": {},
   "outputs": [
    {
     "data": {
      "image/png": "[encoded data removed]",
      "text/plain": [
       "<Figure size 576x360 with 1 Axes>"
      ]
     },
     "metadata": {},
     "output_type": "display_data"
    }
   ],
   "source": [
    "# stacked bar chart to show total sales for each category in each region\n",
    "fig, ax = plt.subplots(figsize=[8,5])\n",
    "ax = sns.barplot(data=reg_cat_sum_group, x='category',y='sales',hue='region');\n",
    "ax.set_yticks([50000,100000,150000,200000,250000],['50k','100k','150k','200k','250k']);\n",
    "ax.tick_params(which='major',bottom=False,top=False,grid_alpha=0.0);\n",
    "ax.set_xlabel('');\n",
    "ax.set_ylabel('');\n",
    "ax.legend(loc=[1,0.7]);\n",
    "ax.text(-0.72,300000,'Which region has the lowest sale for each product category?',weight='bold',size=18);\n",
    "ax.text(-0.5,280000,'Total sales (USD) for each region by product category',size=16);\n",
    "ax.text(-0.72,-36500,'©Elias'+' '*71+'Source: DataCamp',backgroundcolor='#5A5A5A',size=18,color='white');"
   ]
  },
  {
   "cell_type": "code",
   "execution_count": 39,
   "id": "485bca3a",
   "metadata": {},
   "outputs": [
    {
     "data": {
      "text/plain": [
       "Text(0, -0.5, 'Total sales for each product category by region')"
      ]
     },
     "execution_count": 39,
     "metadata": {},
     "output_type": "execute_result"
    },
    {
     "data": {
      "image/png": "[encoded data removed]",
      "text/plain": [
       "<Figure size 432x216 with 2 Axes>"
      ]
     },
     "metadata": {},
     "output_type": "display_data"
    }
   ],
   "source": [
    "# heat map to show the density of total sales for each category in each region\n",
    "fig, ax = plt.subplots(figsize=[6,3])\n",
    "ax = sns.heatmap(reg_cat_sum_pivot.sales,cmap='viridis_r',cbar_kws={'label':'Total Sales (USD)'})\n",
    "cbar = ax.collections[0].colorbar\n",
    "cbar.set_ticks([125000,150000,175000,200000,225000,250000]);\n",
    "cbar.set_ticklabels(['125k','150k','175k','200k','225k','250k']);\n",
    "ax.set_ylabel('');\n",
    "ax.set_xlabel('');\n",
    "ax.text(-1.5,3.70,'©Elias'+' '*58+'Source: DataCamp',backgroundcolor='#5A5A5A',size=16,color='white');\n",
    "ax.text(-1.5,-0.8,'Is there a significant difference in sales of products by region?',weight='bold',size=14);\n",
    "ax.text(0,-0.5,'Total sales for each product category by region',size=14)"
   ]
  },
  {
   "cell_type": "code",
   "execution_count": 40,
   "id": "e9b90b18",
   "metadata": {},
   "outputs": [
    {
     "data": {
      "text/html": [
       "<div>\n",
       "<style scoped>\n",
       "    .dataframe tbody tr th:only-of-type {\n",
       "        vertical-align: middle;\n",
       "    }\n",
       "\n",
       "    .dataframe tbody tr th {\n",
       "        vertical-align: top;\n",
       "    }\n",
       "\n",
       "    .dataframe thead th {\n",
       "        text-align: right;\n",
       "    }\n",
       "</style>\n",
       "<table border=\"1\" class=\"dataframe\">\n",
       "  <thead>\n",
       "    <tr style=\"text-align: right;\">\n",
       "      <th></th>\n",
       "      <th>region</th>\n",
       "      <th>category</th>\n",
       "      <th>profit</th>\n",
       "    </tr>\n",
       "  </thead>\n",
       "  <tbody>\n",
       "    <tr>\n",
       "      <th>0</th>\n",
       "      <td>Central</td>\n",
       "      <td>Furniture</td>\n",
       "      <td>2435.11</td>\n",
       "    </tr>\n",
       "    <tr>\n",
       "      <th>1</th>\n",
       "      <td>Central</td>\n",
       "      <td>Office Supplies</td>\n",
       "      <td>15738.41</td>\n",
       "    </tr>\n",
       "    <tr>\n",
       "      <th>2</th>\n",
       "      <td>Central</td>\n",
       "      <td>Technology</td>\n",
       "      <td>30159.72</td>\n",
       "    </tr>\n",
       "    <tr>\n",
       "      <th>3</th>\n",
       "      <td>East</td>\n",
       "      <td>Furniture</td>\n",
       "      <td>5166.31</td>\n",
       "    </tr>\n",
       "    <tr>\n",
       "      <th>4</th>\n",
       "      <td>East</td>\n",
       "      <td>Office Supplies</td>\n",
       "      <td>40777.71</td>\n",
       "    </tr>\n",
       "    <tr>\n",
       "      <th>5</th>\n",
       "      <td>East</td>\n",
       "      <td>Technology</td>\n",
       "      <td>42806.40</td>\n",
       "    </tr>\n",
       "    <tr>\n",
       "      <th>6</th>\n",
       "      <td>South</td>\n",
       "      <td>Furniture</td>\n",
       "      <td>10740.05</td>\n",
       "    </tr>\n",
       "    <tr>\n",
       "      <th>7</th>\n",
       "      <td>South</td>\n",
       "      <td>Office Supplies</td>\n",
       "      <td>20794.89</td>\n",
       "    </tr>\n",
       "    <tr>\n",
       "      <th>8</th>\n",
       "      <td>South</td>\n",
       "      <td>Technology</td>\n",
       "      <td>15982.88</td>\n",
       "    </tr>\n",
       "    <tr>\n",
       "      <th>9</th>\n",
       "      <td>West</td>\n",
       "      <td>Furniture</td>\n",
       "      <td>10645.92</td>\n",
       "    </tr>\n",
       "    <tr>\n",
       "      <th>10</th>\n",
       "      <td>West</td>\n",
       "      <td>Office Supplies</td>\n",
       "      <td>52825.04</td>\n",
       "    </tr>\n",
       "    <tr>\n",
       "      <th>11</th>\n",
       "      <td>West</td>\n",
       "      <td>Technology</td>\n",
       "      <td>33095.94</td>\n",
       "    </tr>\n",
       "  </tbody>\n",
       "</table>\n",
       "</div>"
      ],
      "text/plain": [
       "     region         category    profit\n",
       "0   Central        Furniture   2435.11\n",
       "1   Central  Office Supplies  15738.41\n",
       "2   Central       Technology  30159.72\n",
       "3      East        Furniture   5166.31\n",
       "4      East  Office Supplies  40777.71\n",
       "5      East       Technology  42806.40\n",
       "6     South        Furniture  10740.05\n",
       "7     South  Office Supplies  20794.89\n",
       "8     South       Technology  15982.88\n",
       "9      West        Furniture  10645.92\n",
       "10     West  Office Supplies  52825.04\n",
       "11     West       Technology  33095.94"
      ]
     },
     "execution_count": 40,
     "metadata": {},
     "output_type": "execute_result"
    }
   ],
   "source": [
    "reg_cat_profit_group = office_supplies[['region','category','profit']].groupby(['region','category']).sum().reset_index()\n",
    "reg_cat_profit_group"
   ]
  },
  {
   "cell_type": "code",
   "execution_count": 249,
   "id": "4dc8ce0c",
   "metadata": {},
   "outputs": [
    {
     "data": {
      "text/html": [
       "<div>\n",
       "<style scoped>\n",
       "    .dataframe tbody tr th:only-of-type {\n",
       "        vertical-align: middle;\n",
       "    }\n",
       "\n",
       "    .dataframe tbody tr th {\n",
       "        vertical-align: top;\n",
       "    }\n",
       "\n",
       "    .dataframe thead tr th {\n",
       "        text-align: left;\n",
       "    }\n",
       "</style>\n",
       "<table border=\"1\" class=\"dataframe\">\n",
       "  <thead>\n",
       "    <tr>\n",
       "      <th></th>\n",
       "      <th>region</th>\n",
       "      <th colspan=\"2\" halign=\"left\">discount</th>\n",
       "    </tr>\n",
       "    <tr>\n",
       "      <th></th>\n",
       "      <th></th>\n",
       "      <th>mean</th>\n",
       "      <th>median</th>\n",
       "    </tr>\n",
       "  </thead>\n",
       "  <tbody>\n",
       "    <tr>\n",
       "      <th>0</th>\n",
       "      <td>Central</td>\n",
       "      <td>0.240457</td>\n",
       "      <td>0.2</td>\n",
       "    </tr>\n",
       "    <tr>\n",
       "      <th>1</th>\n",
       "      <td>East</td>\n",
       "      <td>0.145311</td>\n",
       "      <td>0.0</td>\n",
       "    </tr>\n",
       "    <tr>\n",
       "      <th>2</th>\n",
       "      <td>South</td>\n",
       "      <td>0.147253</td>\n",
       "      <td>0.2</td>\n",
       "    </tr>\n",
       "    <tr>\n",
       "      <th>3</th>\n",
       "      <td>West</td>\n",
       "      <td>0.109335</td>\n",
       "      <td>0.0</td>\n",
       "    </tr>\n",
       "  </tbody>\n",
       "</table>\n",
       "</div>"
      ],
      "text/plain": [
       "    region  discount       \n",
       "                mean median\n",
       "0  Central  0.240457    0.2\n",
       "1     East  0.145311    0.0\n",
       "2    South  0.147253    0.2\n",
       "3     West  0.109335    0.0"
      ]
     },
     "execution_count": 249,
     "metadata": {},
     "output_type": "execute_result"
    }
   ],
   "source": [
    "# group dataset by region and summarize the discount column by its mean and median\n",
    "discount_group = office_supplies[['region','discount']].groupby('region').agg([np.mean,np.median]).reset_index()\n",
    "discount_group"
   ]
  },
  {
   "cell_type": "code",
   "execution_count": 41,
   "id": "ef1ba705",
   "metadata": {},
   "outputs": [
    {
     "data": {
      "text/html": [
       "<div>\n",
       "<style scoped>\n",
       "    .dataframe tbody tr th:only-of-type {\n",
       "        vertical-align: middle;\n",
       "    }\n",
       "\n",
       "    .dataframe tbody tr th {\n",
       "        vertical-align: top;\n",
       "    }\n",
       "\n",
       "    .dataframe thead th {\n",
       "        text-align: right;\n",
       "    }\n",
       "</style>\n",
       "<table border=\"1\" class=\"dataframe\">\n",
       "  <thead>\n",
       "    <tr style=\"text-align: right;\">\n",
       "      <th></th>\n",
       "      <th>region</th>\n",
       "      <th>sub_category</th>\n",
       "      <th>sales</th>\n",
       "    </tr>\n",
       "  </thead>\n",
       "  <tbody>\n",
       "    <tr>\n",
       "      <th>0</th>\n",
       "      <td>Central</td>\n",
       "      <td>Accessories</td>\n",
       "      <td>33956.08</td>\n",
       "    </tr>\n",
       "    <tr>\n",
       "      <th>1</th>\n",
       "      <td>Central</td>\n",
       "      <td>Appliances</td>\n",
       "      <td>23581.98</td>\n",
       "    </tr>\n",
       "    <tr>\n",
       "      <th>2</th>\n",
       "      <td>Central</td>\n",
       "      <td>Art</td>\n",
       "      <td>5765.32</td>\n",
       "    </tr>\n",
       "    <tr>\n",
       "      <th>3</th>\n",
       "      <td>Central</td>\n",
       "      <td>Binders</td>\n",
       "      <td>56923.26</td>\n",
       "    </tr>\n",
       "    <tr>\n",
       "      <th>4</th>\n",
       "      <td>Central</td>\n",
       "      <td>Bookcases</td>\n",
       "      <td>24157.16</td>\n",
       "    </tr>\n",
       "    <tr>\n",
       "      <th>...</th>\n",
       "      <td>...</td>\n",
       "      <td>...</td>\n",
       "      <td>...</td>\n",
       "    </tr>\n",
       "    <tr>\n",
       "      <th>63</th>\n",
       "      <td>West</td>\n",
       "      <td>Paper</td>\n",
       "      <td>26663.73</td>\n",
       "    </tr>\n",
       "    <tr>\n",
       "      <th>64</th>\n",
       "      <td>West</td>\n",
       "      <td>Phones</td>\n",
       "      <td>98684.39</td>\n",
       "    </tr>\n",
       "    <tr>\n",
       "      <th>65</th>\n",
       "      <td>West</td>\n",
       "      <td>Storage</td>\n",
       "      <td>70532.84</td>\n",
       "    </tr>\n",
       "    <tr>\n",
       "      <th>66</th>\n",
       "      <td>West</td>\n",
       "      <td>Supplies</td>\n",
       "      <td>18127.12</td>\n",
       "    </tr>\n",
       "    <tr>\n",
       "      <th>67</th>\n",
       "      <td>West</td>\n",
       "      <td>Tables</td>\n",
       "      <td>84754.55</td>\n",
       "    </tr>\n",
       "  </tbody>\n",
       "</table>\n",
       "<p>68 rows × 3 columns</p>\n",
       "</div>"
      ],
      "text/plain": [
       "     region sub_category     sales\n",
       "0   Central  Accessories  33956.08\n",
       "1   Central   Appliances  23581.98\n",
       "2   Central          Art   5765.32\n",
       "3   Central      Binders  56923.26\n",
       "4   Central    Bookcases  24157.16\n",
       "..      ...          ...       ...\n",
       "63     West        Paper  26663.73\n",
       "64     West       Phones  98684.39\n",
       "65     West      Storage  70532.84\n",
       "66     West     Supplies  18127.12\n",
       "67     West       Tables  84754.55\n",
       "\n",
       "[68 rows x 3 columns]"
      ]
     },
     "execution_count": 41,
     "metadata": {},
     "output_type": "execute_result"
    }
   ],
   "source": [
    "reg_subcat_sum_group = office_supplies[['region','sub_category','sales']].groupby(['region','sub_category']).sum().reset_index()\n",
    "reg_subcat_sum_group"
   ]
  },
  {
   "cell_type": "code",
   "execution_count": 42,
   "id": "2793ffdd",
   "metadata": {},
   "outputs": [
    {
     "data": {
      "text/html": [
       "<div>\n",
       "<style scoped>\n",
       "    .dataframe tbody tr th:only-of-type {\n",
       "        vertical-align: middle;\n",
       "    }\n",
       "\n",
       "    .dataframe tbody tr th {\n",
       "        vertical-align: top;\n",
       "    }\n",
       "\n",
       "    .dataframe thead tr th {\n",
       "        text-align: left;\n",
       "    }\n",
       "\n",
       "    .dataframe thead tr:last-of-type th {\n",
       "        text-align: right;\n",
       "    }\n",
       "</style>\n",
       "<table border=\"1\" class=\"dataframe\">\n",
       "  <thead>\n",
       "    <tr>\n",
       "      <th></th>\n",
       "      <th colspan=\"4\" halign=\"left\">sales</th>\n",
       "    </tr>\n",
       "    <tr>\n",
       "      <th>region</th>\n",
       "      <th>South</th>\n",
       "      <th>Central</th>\n",
       "      <th>East</th>\n",
       "      <th>West</th>\n",
       "    </tr>\n",
       "    <tr>\n",
       "      <th>sub_category</th>\n",
       "      <th></th>\n",
       "      <th></th>\n",
       "      <th></th>\n",
       "      <th></th>\n",
       "    </tr>\n",
       "  </thead>\n",
       "  <tbody>\n",
       "    <tr>\n",
       "      <th>Accessories</th>\n",
       "      <td>27276.75</td>\n",
       "      <td>33956.08</td>\n",
       "      <td>45033.38</td>\n",
       "      <td>61114.10</td>\n",
       "    </tr>\n",
       "    <tr>\n",
       "      <th>Appliances</th>\n",
       "      <td>19525.34</td>\n",
       "      <td>23581.98</td>\n",
       "      <td>34188.50</td>\n",
       "      <td>30236.32</td>\n",
       "    </tr>\n",
       "    <tr>\n",
       "      <th>Art</th>\n",
       "      <td>4655.65</td>\n",
       "      <td>5765.32</td>\n",
       "      <td>7485.77</td>\n",
       "      <td>9212.06</td>\n",
       "    </tr>\n",
       "    <tr>\n",
       "      <th>Binders</th>\n",
       "      <td>37030.31</td>\n",
       "      <td>56923.26</td>\n",
       "      <td>53498.06</td>\n",
       "      <td>55961.10</td>\n",
       "    </tr>\n",
       "    <tr>\n",
       "      <th>Bookcases</th>\n",
       "      <td>10899.37</td>\n",
       "      <td>24157.16</td>\n",
       "      <td>43819.33</td>\n",
       "      <td>36004.12</td>\n",
       "    </tr>\n",
       "    <tr>\n",
       "      <th>Chairs</th>\n",
       "      <td>45176.44</td>\n",
       "      <td>85230.67</td>\n",
       "      <td>95979.26</td>\n",
       "      <td>101781.36</td>\n",
       "    </tr>\n",
       "    <tr>\n",
       "      <th>Copiers</th>\n",
       "      <td>9299.75</td>\n",
       "      <td>37259.57</td>\n",
       "      <td>53219.46</td>\n",
       "      <td>49749.23</td>\n",
       "    </tr>\n",
       "    <tr>\n",
       "      <th>Envelopes</th>\n",
       "      <td>3345.55</td>\n",
       "      <td>4636.85</td>\n",
       "      <td>4375.88</td>\n",
       "      <td>4118.10</td>\n",
       "    </tr>\n",
       "    <tr>\n",
       "      <th>Fasteners</th>\n",
       "      <td>503.31</td>\n",
       "      <td>778.02</td>\n",
       "      <td>819.72</td>\n",
       "      <td>923.20</td>\n",
       "    </tr>\n",
       "    <tr>\n",
       "      <th>Furnishings</th>\n",
       "      <td>17306.68</td>\n",
       "      <td>15254.35</td>\n",
       "      <td>29071.36</td>\n",
       "      <td>30072.73</td>\n",
       "    </tr>\n",
       "    <tr>\n",
       "      <th>Labels</th>\n",
       "      <td>2353.18</td>\n",
       "      <td>2451.48</td>\n",
       "      <td>2602.92</td>\n",
       "      <td>5078.72</td>\n",
       "    </tr>\n",
       "    <tr>\n",
       "      <th>Machines</th>\n",
       "      <td>53890.96</td>\n",
       "      <td>26797.38</td>\n",
       "      <td>66106.18</td>\n",
       "      <td>42444.13</td>\n",
       "    </tr>\n",
       "    <tr>\n",
       "      <th>Paper</th>\n",
       "      <td>14150.98</td>\n",
       "      <td>17491.91</td>\n",
       "      <td>20172.62</td>\n",
       "      <td>26663.73</td>\n",
       "    </tr>\n",
       "    <tr>\n",
       "      <th>Phones</th>\n",
       "      <td>58304.43</td>\n",
       "      <td>72139.30</td>\n",
       "      <td>100615.02</td>\n",
       "      <td>98684.39</td>\n",
       "    </tr>\n",
       "    <tr>\n",
       "      <th>Storage</th>\n",
       "      <td>35768.03</td>\n",
       "      <td>45930.14</td>\n",
       "      <td>71612.58</td>\n",
       "      <td>70532.84</td>\n",
       "    </tr>\n",
       "    <tr>\n",
       "      <th>Supplies</th>\n",
       "      <td>8318.93</td>\n",
       "      <td>9467.37</td>\n",
       "      <td>10760.10</td>\n",
       "      <td>18127.12</td>\n",
       "    </tr>\n",
       "    <tr>\n",
       "      <th>Tables</th>\n",
       "      <td>43916.19</td>\n",
       "      <td>39154.97</td>\n",
       "      <td>39139.82</td>\n",
       "      <td>84754.55</td>\n",
       "    </tr>\n",
       "  </tbody>\n",
       "</table>\n",
       "</div>"
      ],
      "text/plain": [
       "                 sales                                \n",
       "region           South   Central       East       West\n",
       "sub_category                                          \n",
       "Accessories   27276.75  33956.08   45033.38   61114.10\n",
       "Appliances    19525.34  23581.98   34188.50   30236.32\n",
       "Art            4655.65   5765.32    7485.77    9212.06\n",
       "Binders       37030.31  56923.26   53498.06   55961.10\n",
       "Bookcases     10899.37  24157.16   43819.33   36004.12\n",
       "Chairs        45176.44  85230.67   95979.26  101781.36\n",
       "Copiers        9299.75  37259.57   53219.46   49749.23\n",
       "Envelopes      3345.55   4636.85    4375.88    4118.10\n",
       "Fasteners       503.31    778.02     819.72     923.20\n",
       "Furnishings   17306.68  15254.35   29071.36   30072.73\n",
       "Labels         2353.18   2451.48    2602.92    5078.72\n",
       "Machines      53890.96  26797.38   66106.18   42444.13\n",
       "Paper         14150.98  17491.91   20172.62   26663.73\n",
       "Phones        58304.43  72139.30  100615.02   98684.39\n",
       "Storage       35768.03  45930.14   71612.58   70532.84\n",
       "Supplies       8318.93   9467.37   10760.10   18127.12\n",
       "Tables        43916.19  39154.97   39139.82   84754.55"
      ]
     },
     "execution_count": 42,
     "metadata": {},
     "output_type": "execute_result"
    }
   ],
   "source": [
    "# create a pivot table with regions as index and product sub-categories as columns\n",
    "reg_subcat_sum_pivot = reg_subcat_sum_group.pivot(index='sub_category',columns='region')\n",
    "reg_subcat_sum_pivot = reg_subcat_sum_pivot.sort_values('Accessories',axis=1)\n",
    "reg_subcat_sum_pivot"
   ]
  },
  {
   "cell_type": "code",
   "execution_count": 43,
   "id": "2d1f77e2",
   "metadata": {},
   "outputs": [],
   "source": [
    "furniture = office_supplies[office_supplies.category == 'Furniture']\n",
    "office = office_supplies[office_supplies.category == 'Office Supplies']\n",
    "tech = office_supplies[office_supplies.category == 'Technology']"
   ]
  },
  {
   "cell_type": "code",
   "execution_count": 44,
   "id": "e5d02482",
   "metadata": {},
   "outputs": [
    {
     "data": {
      "text/plain": [
       "Furnishings    957\n",
       "Chairs         616\n",
       "Tables         319\n",
       "Bookcases      228\n",
       "Name: sub_category, dtype: int64"
      ]
     },
     "execution_count": 44,
     "metadata": {},
     "output_type": "execute_result"
    }
   ],
   "source": [
    "furniture.sub_category.value_counts()"
   ]
  },
  {
   "cell_type": "code",
   "execution_count": 45,
   "id": "4bfbb176",
   "metadata": {},
   "outputs": [
    {
     "data": {
      "text/plain": [
       "Binders       1523\n",
       "Paper         1370\n",
       "Storage        846\n",
       "Art            796\n",
       "Appliances     466\n",
       "Labels         364\n",
       "Envelopes      254\n",
       "Fasteners      217\n",
       "Supplies       190\n",
       "Name: sub_category, dtype: int64"
      ]
     },
     "execution_count": 45,
     "metadata": {},
     "output_type": "execute_result"
    }
   ],
   "source": [
    "office.sub_category.value_counts()"
   ]
  },
  {
   "cell_type": "code",
   "execution_count": 46,
   "id": "2aeb751d",
   "metadata": {},
   "outputs": [
    {
     "data": {
      "text/plain": [
       "Phones         888\n",
       "Accessories    775\n",
       "Machines       115\n",
       "Copiers         68\n",
       "Name: sub_category, dtype: int64"
      ]
     },
     "execution_count": 46,
     "metadata": {},
     "output_type": "execute_result"
    }
   ],
   "source": [
    "tech.sub_category.value_counts()"
   ]
  },
  {
   "cell_type": "code",
   "execution_count": 47,
   "id": "b1728f29",
   "metadata": {},
   "outputs": [],
   "source": [
    "west = office_supplies[office_supplies.region == 'West']\n",
    "east = office_supplies[office_supplies.region == 'East']\n",
    "south = office_supplies[office_supplies.region == 'South']\n",
    "central = office_supplies[office_supplies.region == 'Central']"
   ]
  },
  {
   "cell_type": "code",
   "execution_count": null,
   "id": "b50020b0",
   "metadata": {},
   "outputs": [],
   "source": []
  },
  {
   "cell_type": "code",
   "execution_count": 55,
   "id": "5f64b2a3",
   "metadata": {},
   "outputs": [
    {
     "data": {
      "image/png": "[encoded data removed]",
      "text/plain": [
       "<Figure size 700x300 with 4 Axes>"
      ]
     },
     "metadata": {},
     "output_type": "display_data"
    }
   ],
   "source": [
    "plt.style.use('default')\n",
    "plt.style.use('fivethirtyeight')\n",
    "fig,ax = plt.subplots(nrows=2,ncols=2,figsize=[7,3],sharex=True,sharey=True)\n",
    "for x,y, region, color in zip([0,0,1,1],[0,1,0,1],[east,west,south,central],['red','green','gold','blue']):\n",
    "    #data = office_supplies[office_supplies.year == time]\n",
    "    ax[x,y] = sns.lineplot(data=region,x='year',y='sales',ax=ax[x,y],ci=None,size=0.1,color=color);\n",
    "    ax[x,y].set_xlabel('')\n",
    "    ax[x,y].set_ylabel('')\n",
    "    ax[x,y].tick_params(which='major',grid_alpha=0.0)"
   ]
  },
  {
   "cell_type": "code",
   "execution_count": 256,
   "id": "c04b7a50",
   "metadata": {},
   "outputs": [
    {
     "data": {
      "text/html": [
       "<div>\n",
       "<style scoped>\n",
       "    .dataframe tbody tr th:only-of-type {\n",
       "        vertical-align: middle;\n",
       "    }\n",
       "\n",
       "    .dataframe tbody tr th {\n",
       "        vertical-align: top;\n",
       "    }\n",
       "\n",
       "    .dataframe thead th {\n",
       "        text-align: right;\n",
       "    }\n",
       "</style>\n",
       "<table border=\"1\" class=\"dataframe\">\n",
       "  <thead>\n",
       "    <tr style=\"text-align: right;\">\n",
       "      <th></th>\n",
       "      <th>region</th>\n",
       "      <th>mean_sale_per_year</th>\n",
       "    </tr>\n",
       "  </thead>\n",
       "  <tbody>\n",
       "    <tr>\n",
       "      <th>0</th>\n",
       "      <td>West</td>\n",
       "      <td>181364.4500</td>\n",
       "    </tr>\n",
       "    <tr>\n",
       "      <th>1</th>\n",
       "      <td>East</td>\n",
       "      <td>169624.9900</td>\n",
       "    </tr>\n",
       "    <tr>\n",
       "      <th>2</th>\n",
       "      <td>Central</td>\n",
       "      <td>125243.9525</td>\n",
       "    </tr>\n",
       "    <tr>\n",
       "      <th>3</th>\n",
       "      <td>South</td>\n",
       "      <td>97930.4625</td>\n",
       "    </tr>\n",
       "  </tbody>\n",
       "</table>\n",
       "</div>"
      ],
      "text/plain": [
       "    region  mean_sale_per_year\n",
       "0     West         181364.4500\n",
       "1     East         169624.9900\n",
       "2  Central         125243.9525\n",
       "3    South          97930.4625"
      ]
     },
     "execution_count": 256,
     "metadata": {},
     "output_type": "execute_result"
    }
   ],
   "source": [
    "# calculate mean sale per year for each region\n",
    "mean_sale_per_year = office_supplies.groupby(['region','year']).sum().sales.reset_index().pivot(index='region',columns='year').mean(axis=1).sort_values(ascending=False).reset_index()\n",
    "mean_sale_per_year.columns = ['region','mean_sale_per_year']\n",
    "mean_sale_per_year"
   ]
  },
  {
   "cell_type": "code",
   "execution_count": 258,
   "id": "e6c05ca3",
   "metadata": {},
   "outputs": [
    {
     "data": {
      "image/png": "[encoded data removed]",
      "text/plain": [
       "<Figure size 640x480 with 1 Axes>"
      ]
     },
     "metadata": {},
     "output_type": "display_data"
    }
   ],
   "source": [
    "fig,ax = plt.subplots()\n",
    "ax =sns.lineplot(data = office_supplies,x='year',y='sales',estimator='sum',legend=False,hue='region',ci=False,palette=['blue','red','gold','green'],size=0.1);\n",
    "plt.ylim([50000,270000])\n",
    "ax.tick_params(which='major',grid_alpha=0.0);\n",
    "ax.set_yticks([]);\n",
    "ax.set_xticks([]);\n",
    "ax.set_ylabel('')\n",
    "ax.set_xlabel('')\n",
    "y = 265000\n",
    "xmin = 0.05\n",
    "xmax = 0.1\n",
    "x = 2014.2\n",
    "for color, region in zip(['blue','red','gold','green'],['Central','East','South','West']):\n",
    "    ax.axhline(y=y,color=color,linewidth=1.5,alpha=1.0,xmin=xmin,xmax=xmax);\n",
    "    ax.text(x,y-2000,region,size=8);\n",
    "    xmin += 0.2\n",
    "    xmax += 0.21\n",
    "    x += 0.69\n",
    "for y in [250000,200000,150000,100000,50000]:\n",
    "    ax.axhline(y=y,color='gray',linewidth=1,alpha=0.2,xmin=0.03,xmax=.96);\n",
    "for x in [2014,2015,2016,2017]:\n",
    "    ax.axvline(x=x,color='gray',linewidth=1,alpha=0.2,ymax=0.9);\n",
    "for y, text in zip([246000,196000,146000,96000,46000,],['250k','200k','150k','100k','50k']):\n",
    "    ax.text(2013.7,y,text,size=10);\n",
    "for x in [2014,2015,2016,2017]:\n",
    "    ax.text(x-0.1,35000,'{}'.format(x),size=10);\n",
    "ax.text(2013.7,15000,'©Elias'+' '*71+'Source: DataCamp',backgroundcolor='#5A5A5A',size=12,color='white');\n",
    "ax.text(2013.7,290000,'The West has the highest mean sale per year at USD 181k',size=12,weight='bold');\n",
    "ax.text(2014,280000,'Sales trend in all four regions from 2014 to 2017',size = 12);"
   ]
  },
  {
   "cell_type": "code",
   "execution_count": null,
   "id": "bb86a85b",
   "metadata": {},
   "outputs": [],
   "source": []
  }
 ],
 "metadata": {
  "kernelspec": {
   "display_name": "Python 3 (ipykernel)",
   "language": "python",
   "name": "python3"
  },
  "language_info": {
   "codemirror_mode": {
    "name": "ipython",
    "version": 3
   },
   "file_extension": ".py",
   "mimetype": "text/x-python",
   "name": "python",
   "nbconvert_exporter": "python",
   "pygments_lexer": "ipython3",
   "version": "3.9.12"
  }
 },
 "nbformat": 4,
 "nbformat_minor": 5
}
